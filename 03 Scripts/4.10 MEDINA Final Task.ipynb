{
 "cells": [
  {
   "cell_type": "markdown",
   "id": "ec77ebdb-bb61-464f-b6f0-3515e0a01ba6",
   "metadata": {},
   "source": [
    "# 4.10 Instacart Final Task\n",
    "\n",
    "## Contents\n",
    "\n",
    "### Import Libraries and Dataframes\n",
    "### Create regional segmentation of data\n",
    "### Determine whether there’s a difference in spending habits between the different U.S. regions\n",
    "### Create an exclusion flag for low-activity customers\n",
    "### Customer profiling\n",
    "### Aggregate the max, mean, and min variables on a customer-profile level for usage frequency and expenditure\n",
    "### Compare customer profiles with regions and departments\n",
    "### Visualizations"
   ]
  },
  {
   "cell_type": "code",
   "execution_count": 2,
   "id": "07b39c88-7d38-4c09-938d-913c30ce5d39",
   "metadata": {},
   "outputs": [],
   "source": [
    "# import Libraries\n",
    "import pandas as pd\n",
    "import numpy as np\n",
    "import os\n",
    "import matplotlib.pyplot as plt\n",
    "import seaborn as sns\n",
    "import scipy"
   ]
  },
  {
   "cell_type": "code",
   "execution_count": 3,
   "id": "5e5bd48f-db7f-4692-be3d-3f6e17106d97",
   "metadata": {},
   "outputs": [],
   "source": [
    "# assign path\n",
    "path = r'/Users/alden/Desktop/07-2024 Instacart Basket Analysis'"
   ]
  },
  {
   "cell_type": "code",
   "execution_count": 4,
   "id": "39c7cd06-cbc7-4450-9e2b-dd7304b7d9cc",
   "metadata": {},
   "outputs": [],
   "source": [
    "# import dataframe\n",
    "ords_prods_cust = pd.read_pickle (os.path.join(path, '02 Data', 'Prepared Data', 'orders_products_customers_merged.pkl'))"
   ]
  },
  {
   "cell_type": "markdown",
   "id": "4e98acfc-46d6-45f3-af06-8c62c7504f34",
   "metadata": {},
   "source": [
    "# 3. Create a regional segmentation of the data"
   ]
  },
  {
   "cell_type": "code",
   "execution_count": 6,
   "id": "9c70bf19-a276-4865-a1d0-a1c6eff0961e",
   "metadata": {},
   "outputs": [
    {
     "data": {
      "text/html": [
       "<div>\n",
       "<style scoped>\n",
       "    .dataframe tbody tr th:only-of-type {\n",
       "        vertical-align: middle;\n",
       "    }\n",
       "\n",
       "    .dataframe tbody tr th {\n",
       "        vertical-align: top;\n",
       "    }\n",
       "\n",
       "    .dataframe thead th {\n",
       "        text-align: right;\n",
       "    }\n",
       "</style>\n",
       "<table border=\"1\" class=\"dataframe\">\n",
       "  <thead>\n",
       "    <tr style=\"text-align: right;\">\n",
       "      <th></th>\n",
       "      <th>order_id</th>\n",
       "      <th>user_id</th>\n",
       "      <th>order_number</th>\n",
       "      <th>order_day_of_week</th>\n",
       "      <th>order_hour_of_day</th>\n",
       "      <th>days_since_prior_order</th>\n",
       "      <th>product_id</th>\n",
       "      <th>add_to_cart_order</th>\n",
       "      <th>reordered</th>\n",
       "      <th>_merge</th>\n",
       "      <th>...</th>\n",
       "      <th>prices</th>\n",
       "      <th>first_name</th>\n",
       "      <th>surname</th>\n",
       "      <th>gender</th>\n",
       "      <th>state</th>\n",
       "      <th>age</th>\n",
       "      <th>date_joined</th>\n",
       "      <th>n_dependants</th>\n",
       "      <th>fam_status</th>\n",
       "      <th>income</th>\n",
       "    </tr>\n",
       "  </thead>\n",
       "  <tbody>\n",
       "    <tr>\n",
       "      <th>0</th>\n",
       "      <td>2539329</td>\n",
       "      <td>1</td>\n",
       "      <td>1</td>\n",
       "      <td>2</td>\n",
       "      <td>8</td>\n",
       "      <td>7.0</td>\n",
       "      <td>196</td>\n",
       "      <td>1</td>\n",
       "      <td>0</td>\n",
       "      <td>both</td>\n",
       "      <td>...</td>\n",
       "      <td>9.0</td>\n",
       "      <td>Linda</td>\n",
       "      <td>Nguyen</td>\n",
       "      <td>Female</td>\n",
       "      <td>Alabama</td>\n",
       "      <td>31</td>\n",
       "      <td>2/17/2019</td>\n",
       "      <td>3</td>\n",
       "      <td>married</td>\n",
       "      <td>40423</td>\n",
       "    </tr>\n",
       "    <tr>\n",
       "      <th>1</th>\n",
       "      <td>2539329</td>\n",
       "      <td>1</td>\n",
       "      <td>1</td>\n",
       "      <td>2</td>\n",
       "      <td>8</td>\n",
       "      <td>7.0</td>\n",
       "      <td>14084</td>\n",
       "      <td>2</td>\n",
       "      <td>0</td>\n",
       "      <td>both</td>\n",
       "      <td>...</td>\n",
       "      <td>12.5</td>\n",
       "      <td>Linda</td>\n",
       "      <td>Nguyen</td>\n",
       "      <td>Female</td>\n",
       "      <td>Alabama</td>\n",
       "      <td>31</td>\n",
       "      <td>2/17/2019</td>\n",
       "      <td>3</td>\n",
       "      <td>married</td>\n",
       "      <td>40423</td>\n",
       "    </tr>\n",
       "    <tr>\n",
       "      <th>2</th>\n",
       "      <td>2539329</td>\n",
       "      <td>1</td>\n",
       "      <td>1</td>\n",
       "      <td>2</td>\n",
       "      <td>8</td>\n",
       "      <td>7.0</td>\n",
       "      <td>12427</td>\n",
       "      <td>3</td>\n",
       "      <td>0</td>\n",
       "      <td>both</td>\n",
       "      <td>...</td>\n",
       "      <td>4.4</td>\n",
       "      <td>Linda</td>\n",
       "      <td>Nguyen</td>\n",
       "      <td>Female</td>\n",
       "      <td>Alabama</td>\n",
       "      <td>31</td>\n",
       "      <td>2/17/2019</td>\n",
       "      <td>3</td>\n",
       "      <td>married</td>\n",
       "      <td>40423</td>\n",
       "    </tr>\n",
       "    <tr>\n",
       "      <th>3</th>\n",
       "      <td>2539329</td>\n",
       "      <td>1</td>\n",
       "      <td>1</td>\n",
       "      <td>2</td>\n",
       "      <td>8</td>\n",
       "      <td>7.0</td>\n",
       "      <td>26088</td>\n",
       "      <td>4</td>\n",
       "      <td>0</td>\n",
       "      <td>both</td>\n",
       "      <td>...</td>\n",
       "      <td>4.7</td>\n",
       "      <td>Linda</td>\n",
       "      <td>Nguyen</td>\n",
       "      <td>Female</td>\n",
       "      <td>Alabama</td>\n",
       "      <td>31</td>\n",
       "      <td>2/17/2019</td>\n",
       "      <td>3</td>\n",
       "      <td>married</td>\n",
       "      <td>40423</td>\n",
       "    </tr>\n",
       "    <tr>\n",
       "      <th>4</th>\n",
       "      <td>2539329</td>\n",
       "      <td>1</td>\n",
       "      <td>1</td>\n",
       "      <td>2</td>\n",
       "      <td>8</td>\n",
       "      <td>7.0</td>\n",
       "      <td>26405</td>\n",
       "      <td>5</td>\n",
       "      <td>0</td>\n",
       "      <td>both</td>\n",
       "      <td>...</td>\n",
       "      <td>1.0</td>\n",
       "      <td>Linda</td>\n",
       "      <td>Nguyen</td>\n",
       "      <td>Female</td>\n",
       "      <td>Alabama</td>\n",
       "      <td>31</td>\n",
       "      <td>2/17/2019</td>\n",
       "      <td>3</td>\n",
       "      <td>married</td>\n",
       "      <td>40423</td>\n",
       "    </tr>\n",
       "  </tbody>\n",
       "</table>\n",
       "<p>5 rows × 23 columns</p>\n",
       "</div>"
      ],
      "text/plain": [
       "   order_id  user_id  order_number  order_day_of_week  order_hour_of_day  \\\n",
       "0   2539329        1             1                  2                  8   \n",
       "1   2539329        1             1                  2                  8   \n",
       "2   2539329        1             1                  2                  8   \n",
       "3   2539329        1             1                  2                  8   \n",
       "4   2539329        1             1                  2                  8   \n",
       "\n",
       "   days_since_prior_order  product_id  add_to_cart_order  reordered _merge  \\\n",
       "0                     7.0         196                  1          0   both   \n",
       "1                     7.0       14084                  2          0   both   \n",
       "2                     7.0       12427                  3          0   both   \n",
       "3                     7.0       26088                  4          0   both   \n",
       "4                     7.0       26405                  5          0   both   \n",
       "\n",
       "   ... prices  first_name  surname  gender    state age date_joined  \\\n",
       "0  ...    9.0       Linda   Nguyen  Female  Alabama  31   2/17/2019   \n",
       "1  ...   12.5       Linda   Nguyen  Female  Alabama  31   2/17/2019   \n",
       "2  ...    4.4       Linda   Nguyen  Female  Alabama  31   2/17/2019   \n",
       "3  ...    4.7       Linda   Nguyen  Female  Alabama  31   2/17/2019   \n",
       "4  ...    1.0       Linda   Nguyen  Female  Alabama  31   2/17/2019   \n",
       "\n",
       "  n_dependants  fam_status income  \n",
       "0            3     married  40423  \n",
       "1            3     married  40423  \n",
       "2            3     married  40423  \n",
       "3            3     married  40423  \n",
       "4            3     married  40423  \n",
       "\n",
       "[5 rows x 23 columns]"
      ]
     },
     "execution_count": 6,
     "metadata": {},
     "output_type": "execute_result"
    }
   ],
   "source": [
    "ords_prods_cust.head()"
   ]
  },
  {
   "cell_type": "code",
   "execution_count": 7,
   "id": "b79a39c7-c457-4ad3-b48f-950d24b26eed",
   "metadata": {},
   "outputs": [],
   "source": [
    "# Assign Northeast Region\n",
    "ords_prods_cust.loc[ords_prods_cust['state'] == 'Maine', 'region'] = 'Northeast'\n",
    "ords_prods_cust.loc[ords_prods_cust['state'] == 'New Hampshire', 'region'] = 'Northeast'\n",
    "ords_prods_cust.loc[ords_prods_cust['state'] == 'Vermont', 'region'] = 'Northeast'\n",
    "ords_prods_cust.loc[ords_prods_cust['state'] == 'Pennsylvania', 'region'] = 'Northeast'\n",
    "ords_prods_cust.loc[ords_prods_cust['state'] == 'Massachusetts', 'region'] = 'Northeast'\n",
    "ords_prods_cust.loc[ords_prods_cust['state'] == 'Rhode Island', 'region'] = 'Northeast'\n",
    "ords_prods_cust.loc[ords_prods_cust['state'] == 'Connecticut', 'region'] = 'Northeast'"
   ]
  },
  {
   "cell_type": "code",
   "execution_count": 8,
   "id": "472360e9-0780-4ddc-b9c6-80b055e118e7",
   "metadata": {},
   "outputs": [],
   "source": [
    "# Assign Midwest Region\n",
    "ords_prods_cust.loc[ords_prods_cust['state'] == 'Wisconsin', 'region'] = 'Midwest'\n",
    "ords_prods_cust.loc[ords_prods_cust['state'] == 'Michigan', 'region'] = 'Midwest'\n",
    "ords_prods_cust.loc[ords_prods_cust['state'] == 'Illinois', 'region'] = 'Midwest'\n",
    "ords_prods_cust.loc[ords_prods_cust['state'] == 'Indiana', 'region'] = 'Midwest'\n",
    "ords_prods_cust.loc[ords_prods_cust['state'] == 'Ohio', 'region'] = 'Midwest'"
   ]
  },
  {
   "cell_type": "code",
   "execution_count": 9,
   "id": "cf597080-c4ec-41f9-bc10-8eb24211a4d0",
   "metadata": {},
   "outputs": [],
   "source": [
    "# Assign Midwest Region2\n",
    "ords_prods_cust.loc[ords_prods_cust['state'] == 'North Dakota', 'region'] = 'Midwest'\n",
    "ords_prods_cust.loc[ords_prods_cust['state'] == 'South Dakota', 'region'] = 'Midwest'\n",
    "ords_prods_cust.loc[ords_prods_cust['state'] == 'Nebraska', 'region'] = 'Midwest'\n",
    "ords_prods_cust.loc[ords_prods_cust['state'] == 'Kansas', 'region'] = 'Midwest'\n",
    "ords_prods_cust.loc[ords_prods_cust['state'] == 'Minnesota', 'region'] = 'Midwest'\n",
    "ords_prods_cust.loc[ords_prods_cust['state'] == 'Iowa', 'region'] = 'Midwest'\n",
    "ords_prods_cust.loc[ords_prods_cust['state'] == 'Missouri', 'region'] = 'Midwest'"
   ]
  },
  {
   "cell_type": "code",
   "execution_count": 10,
   "id": "47121886-e5bc-4eff-b9c3-584ceca80dde",
   "metadata": {},
   "outputs": [],
   "source": [
    "# Assign South Region\n",
    "ords_prods_cust.loc[ords_prods_cust['state'] == 'Delaware', 'region'] = 'South'\n",
    "ords_prods_cust.loc[ords_prods_cust['state'] == 'Maryland', 'region'] = 'South'\n",
    "ords_prods_cust.loc[ords_prods_cust['state'] == 'District of Columbia', 'region'] = 'South'\n",
    "ords_prods_cust.loc[ords_prods_cust['state'] == 'Virginia', 'region'] = 'South'\n",
    "ords_prods_cust.loc[ords_prods_cust['state'] == 'West Virginia', 'region'] = 'South'\n",
    "ords_prods_cust.loc[ords_prods_cust['state'] == 'North Carolina', 'region'] = 'South'\n",
    "ords_prods_cust.loc[ords_prods_cust['state'] == 'South Carolina', 'region'] = 'South'\n",
    "ords_prods_cust.loc[ords_prods_cust['state'] == 'Georgia', 'region'] = 'South'\n",
    "ords_prods_cust.loc[ords_prods_cust['state'] == 'Florida', 'region'] = 'South'"
   ]
  },
  {
   "cell_type": "code",
   "execution_count": 11,
   "id": "b311bf3c-02e0-42bd-ae40-41b9ab024cc0",
   "metadata": {},
   "outputs": [],
   "source": [
    "# Assign South Region2\n",
    "ords_prods_cust.loc[ords_prods_cust['state'] == 'Kentucky', 'region'] = 'South'\n",
    "ords_prods_cust.loc[ords_prods_cust['state'] == 'Tennessee', 'region'] = 'South'\n",
    "ords_prods_cust.loc[ords_prods_cust['state'] == 'Mississippi', 'region'] = 'South'\n",
    "ords_prods_cust.loc[ords_prods_cust['state'] == 'Alabama', 'region'] = 'South'"
   ]
  },
  {
   "cell_type": "code",
   "execution_count": 12,
   "id": "cb56cfe6-c20d-4eb0-abbd-1145d7a8d94e",
   "metadata": {},
   "outputs": [],
   "source": [
    "# Assign South Region3\n",
    "ords_prods_cust.loc[ords_prods_cust['state'] == 'Oklahoma', 'region'] = 'South'\n",
    "ords_prods_cust.loc[ords_prods_cust['state'] == 'Texas', 'region'] = 'South'\n",
    "ords_prods_cust.loc[ords_prods_cust['state'] == 'Arkansas', 'region'] = 'South'\n",
    "ords_prods_cust.loc[ords_prods_cust['state'] == 'Louisiana', 'region'] = 'South'"
   ]
  },
  {
   "cell_type": "code",
   "execution_count": 13,
   "id": "ed8921cf-7731-4fbf-ab96-06373d158063",
   "metadata": {},
   "outputs": [],
   "source": [
    "# Assign West Region\n",
    "ords_prods_cust.loc[ords_prods_cust['state'] == 'Idaho', 'region'] = 'West'\n",
    "ords_prods_cust.loc[ords_prods_cust['state'] == 'Montana', 'region'] = 'West'\n",
    "ords_prods_cust.loc[ords_prods_cust['state'] == 'Wyoming', 'region'] = 'West'\n",
    "ords_prods_cust.loc[ords_prods_cust['state'] == 'Nevada', 'region'] = 'West'\n",
    "ords_prods_cust.loc[ords_prods_cust['state'] == 'Utah', 'region'] = 'West'\n",
    "ords_prods_cust.loc[ords_prods_cust['state'] == 'Colorado', 'region'] = 'West'\n",
    "ords_prods_cust.loc[ords_prods_cust['state'] == 'Arizona', 'region'] = 'West'\n",
    "ords_prods_cust.loc[ords_prods_cust['state'] == 'New Mexico', 'region'] = 'West'"
   ]
  },
  {
   "cell_type": "code",
   "execution_count": 14,
   "id": "780af094-bbb2-4077-81f9-6438958a2ece",
   "metadata": {},
   "outputs": [],
   "source": [
    "# Assign West Region2\n",
    "ords_prods_cust.loc[ords_prods_cust['state'] == 'Alaska', 'region'] = 'West'\n",
    "ords_prods_cust.loc[ords_prods_cust['state'] == 'Washington', 'region'] = 'West'\n",
    "ords_prods_cust.loc[ords_prods_cust['state'] == 'Oregon', 'region'] = 'West'\n",
    "ords_prods_cust.loc[ords_prods_cust['state'] == 'California', 'region'] = 'West'\n",
    "ords_prods_cust.loc[ords_prods_cust['state'] == 'Hawaii', 'region'] = 'West'"
   ]
  },
  {
   "cell_type": "code",
   "execution_count": 15,
   "id": "5269018e-c7b2-4669-8a69-ec11eba2d378",
   "metadata": {},
   "outputs": [
    {
     "data": {
      "text/html": [
       "<div>\n",
       "<style scoped>\n",
       "    .dataframe tbody tr th:only-of-type {\n",
       "        vertical-align: middle;\n",
       "    }\n",
       "\n",
       "    .dataframe tbody tr th {\n",
       "        vertical-align: top;\n",
       "    }\n",
       "\n",
       "    .dataframe thead th {\n",
       "        text-align: right;\n",
       "    }\n",
       "</style>\n",
       "<table border=\"1\" class=\"dataframe\">\n",
       "  <thead>\n",
       "    <tr style=\"text-align: right;\">\n",
       "      <th></th>\n",
       "      <th>order_id</th>\n",
       "      <th>user_id</th>\n",
       "      <th>order_number</th>\n",
       "      <th>order_day_of_week</th>\n",
       "      <th>order_hour_of_day</th>\n",
       "      <th>days_since_prior_order</th>\n",
       "      <th>product_id</th>\n",
       "      <th>add_to_cart_order</th>\n",
       "      <th>reordered</th>\n",
       "      <th>_merge</th>\n",
       "      <th>...</th>\n",
       "      <th>first_name</th>\n",
       "      <th>surname</th>\n",
       "      <th>gender</th>\n",
       "      <th>state</th>\n",
       "      <th>age</th>\n",
       "      <th>date_joined</th>\n",
       "      <th>n_dependants</th>\n",
       "      <th>fam_status</th>\n",
       "      <th>income</th>\n",
       "      <th>region</th>\n",
       "    </tr>\n",
       "  </thead>\n",
       "  <tbody>\n",
       "    <tr>\n",
       "      <th>0</th>\n",
       "      <td>2539329</td>\n",
       "      <td>1</td>\n",
       "      <td>1</td>\n",
       "      <td>2</td>\n",
       "      <td>8</td>\n",
       "      <td>7.0</td>\n",
       "      <td>196</td>\n",
       "      <td>1</td>\n",
       "      <td>0</td>\n",
       "      <td>both</td>\n",
       "      <td>...</td>\n",
       "      <td>Linda</td>\n",
       "      <td>Nguyen</td>\n",
       "      <td>Female</td>\n",
       "      <td>Alabama</td>\n",
       "      <td>31</td>\n",
       "      <td>2/17/2019</td>\n",
       "      <td>3</td>\n",
       "      <td>married</td>\n",
       "      <td>40423</td>\n",
       "      <td>South</td>\n",
       "    </tr>\n",
       "    <tr>\n",
       "      <th>1</th>\n",
       "      <td>2539329</td>\n",
       "      <td>1</td>\n",
       "      <td>1</td>\n",
       "      <td>2</td>\n",
       "      <td>8</td>\n",
       "      <td>7.0</td>\n",
       "      <td>14084</td>\n",
       "      <td>2</td>\n",
       "      <td>0</td>\n",
       "      <td>both</td>\n",
       "      <td>...</td>\n",
       "      <td>Linda</td>\n",
       "      <td>Nguyen</td>\n",
       "      <td>Female</td>\n",
       "      <td>Alabama</td>\n",
       "      <td>31</td>\n",
       "      <td>2/17/2019</td>\n",
       "      <td>3</td>\n",
       "      <td>married</td>\n",
       "      <td>40423</td>\n",
       "      <td>South</td>\n",
       "    </tr>\n",
       "    <tr>\n",
       "      <th>2</th>\n",
       "      <td>2539329</td>\n",
       "      <td>1</td>\n",
       "      <td>1</td>\n",
       "      <td>2</td>\n",
       "      <td>8</td>\n",
       "      <td>7.0</td>\n",
       "      <td>12427</td>\n",
       "      <td>3</td>\n",
       "      <td>0</td>\n",
       "      <td>both</td>\n",
       "      <td>...</td>\n",
       "      <td>Linda</td>\n",
       "      <td>Nguyen</td>\n",
       "      <td>Female</td>\n",
       "      <td>Alabama</td>\n",
       "      <td>31</td>\n",
       "      <td>2/17/2019</td>\n",
       "      <td>3</td>\n",
       "      <td>married</td>\n",
       "      <td>40423</td>\n",
       "      <td>South</td>\n",
       "    </tr>\n",
       "    <tr>\n",
       "      <th>3</th>\n",
       "      <td>2539329</td>\n",
       "      <td>1</td>\n",
       "      <td>1</td>\n",
       "      <td>2</td>\n",
       "      <td>8</td>\n",
       "      <td>7.0</td>\n",
       "      <td>26088</td>\n",
       "      <td>4</td>\n",
       "      <td>0</td>\n",
       "      <td>both</td>\n",
       "      <td>...</td>\n",
       "      <td>Linda</td>\n",
       "      <td>Nguyen</td>\n",
       "      <td>Female</td>\n",
       "      <td>Alabama</td>\n",
       "      <td>31</td>\n",
       "      <td>2/17/2019</td>\n",
       "      <td>3</td>\n",
       "      <td>married</td>\n",
       "      <td>40423</td>\n",
       "      <td>South</td>\n",
       "    </tr>\n",
       "    <tr>\n",
       "      <th>4</th>\n",
       "      <td>2539329</td>\n",
       "      <td>1</td>\n",
       "      <td>1</td>\n",
       "      <td>2</td>\n",
       "      <td>8</td>\n",
       "      <td>7.0</td>\n",
       "      <td>26405</td>\n",
       "      <td>5</td>\n",
       "      <td>0</td>\n",
       "      <td>both</td>\n",
       "      <td>...</td>\n",
       "      <td>Linda</td>\n",
       "      <td>Nguyen</td>\n",
       "      <td>Female</td>\n",
       "      <td>Alabama</td>\n",
       "      <td>31</td>\n",
       "      <td>2/17/2019</td>\n",
       "      <td>3</td>\n",
       "      <td>married</td>\n",
       "      <td>40423</td>\n",
       "      <td>South</td>\n",
       "    </tr>\n",
       "  </tbody>\n",
       "</table>\n",
       "<p>5 rows × 24 columns</p>\n",
       "</div>"
      ],
      "text/plain": [
       "   order_id  user_id  order_number  order_day_of_week  order_hour_of_day  \\\n",
       "0   2539329        1             1                  2                  8   \n",
       "1   2539329        1             1                  2                  8   \n",
       "2   2539329        1             1                  2                  8   \n",
       "3   2539329        1             1                  2                  8   \n",
       "4   2539329        1             1                  2                  8   \n",
       "\n",
       "   days_since_prior_order  product_id  add_to_cart_order  reordered _merge  \\\n",
       "0                     7.0         196                  1          0   both   \n",
       "1                     7.0       14084                  2          0   both   \n",
       "2                     7.0       12427                  3          0   both   \n",
       "3                     7.0       26088                  4          0   both   \n",
       "4                     7.0       26405                  5          0   both   \n",
       "\n",
       "   ... first_name  surname  gender    state age date_joined n_dependants  \\\n",
       "0  ...      Linda   Nguyen  Female  Alabama  31   2/17/2019            3   \n",
       "1  ...      Linda   Nguyen  Female  Alabama  31   2/17/2019            3   \n",
       "2  ...      Linda   Nguyen  Female  Alabama  31   2/17/2019            3   \n",
       "3  ...      Linda   Nguyen  Female  Alabama  31   2/17/2019            3   \n",
       "4  ...      Linda   Nguyen  Female  Alabama  31   2/17/2019            3   \n",
       "\n",
       "  fam_status  income region  \n",
       "0    married   40423  South  \n",
       "1    married   40423  South  \n",
       "2    married   40423  South  \n",
       "3    married   40423  South  \n",
       "4    married   40423  South  \n",
       "\n",
       "[5 rows x 24 columns]"
      ]
     },
     "execution_count": 15,
     "metadata": {},
     "output_type": "execute_result"
    }
   ],
   "source": [
    "ords_prods_cust.head()"
   ]
  },
  {
   "cell_type": "markdown",
   "id": "8cd0cefd-8adb-4c11-b0e5-edb0a43c18b0",
   "metadata": {},
   "source": [
    "## Determine whether there’s a difference in spending habits between the different U.S. regions"
   ]
  },
  {
   "cell_type": "code",
   "execution_count": 17,
   "id": "b6f8ef22-cea8-4fef-9c3f-a8e57c07bfb3",
   "metadata": {},
   "outputs": [
    {
     "name": "stdout",
     "output_type": "stream",
     "text": [
      "Index(['order_id', 'user_id', 'order_number', 'order_day_of_week',\n",
      "       'order_hour_of_day', 'days_since_prior_order', 'product_id',\n",
      "       'add_to_cart_order', 'reordered', '_merge', 'product_name', 'aisle_id',\n",
      "       'department_id', 'prices', 'first_name', 'surname', 'gender', 'state',\n",
      "       'age', 'date_joined', 'n_dependants', 'fam_status', 'income', 'region'],\n",
      "      dtype='object')\n"
     ]
    }
   ],
   "source": [
    "#CHATGPT HELP\n",
    "print(ords_prods_cust.columns)\n"
   ]
  },
  {
   "cell_type": "code",
   "execution_count": 18,
   "id": "aa1a686b-3105-4782-ac28-aefabbb60961",
   "metadata": {},
   "outputs": [
    {
     "name": "stdout",
     "output_type": "stream",
     "text": [
      "     user_id  spender_flag\n",
      "0          1          True\n",
      "59         2          True\n",
      "254        3          True\n",
      "342        4          True\n",
      "360        5         False\n"
     ]
    }
   ],
   "source": [
    "#chatgpt help\n",
    "# Step 1: Calculate the number of orders for each customer (user_id)\n",
    "order_counts = ords_prods_cust.groupby('user_id')['order_id'].nunique()\n",
    "\n",
    "# Step 2: Create the 'spender_flag' column\n",
    "# Customers with fewer than 5 orders will be flagged as 'low activity'\n",
    "ords_prods_cust['spender_flag'] = ords_prods_cust['user_id'].map(order_counts >= 5)\n",
    "\n",
    "# Check the DataFrame to ensure 'spender_flag' is created\n",
    "print(ords_prods_cust[['user_id', 'spender_flag']].drop_duplicates().head())\n"
   ]
  },
  {
   "cell_type": "code",
   "execution_count": 19,
   "id": "27e8e519-479f-45ca-b3ad-d8a4e6c87135",
   "metadata": {},
   "outputs": [
    {
     "name": "stdout",
     "output_type": "stream",
     "text": [
      "spender_flag   False     True \n",
      "region                        \n",
      "Midwest       335822   7261503\n",
      "Northeast     199183   4259878\n",
      "South         480773  10311112\n",
      "West          365686   7927227\n",
      "NaN            58877   1204798\n"
     ]
    }
   ],
   "source": [
    "# Create the crosstab\n",
    "crosstab = pd.crosstab(ords_prods_cust['region'], ords_prods_cust['spender_flag'], dropna=False)\n",
    "\n",
    "# Check the result\n",
    "print(crosstab)\n"
   ]
  },
  {
   "cell_type": "code",
   "execution_count": 20,
   "id": "52da8d8a-4a6e-4bc3-bf43-725b67096095",
   "metadata": {},
   "outputs": [],
   "source": [
    "# Crosstab Region to spending flag\n",
    "crosstab = pd.crosstab(ords_prods_cust['region'], ords_prods_cust['spender_flag'], dropna = False)"
   ]
  },
  {
   "cell_type": "code",
   "execution_count": 21,
   "id": "21fde344-2996-4687-97b2-063dcf39bed4",
   "metadata": {},
   "outputs": [],
   "source": [
    "crosstab.to_clipboard()"
   ]
  },
  {
   "cell_type": "code",
   "execution_count": 22,
   "id": "90a3a1e7-7a24-4434-b22b-89046f874690",
   "metadata": {},
   "outputs": [],
   "source": [
    "# save changes to ords_prods_cust\n",
    "ords_prods_cust.to_pickle(os.path.join(path, '02 Data','Prepared Data', 'orders_products_customers.pkl'))"
   ]
  },
  {
   "cell_type": "markdown",
   "id": "44724e44-5ba7-436e-b886-a3fa860619f7",
   "metadata": {},
   "source": [
    "# 4.  Create an exclusion flag for low-activity customers (customers with less than 5 orders) and exclude them from the data"
   ]
  },
  {
   "cell_type": "code",
   "execution_count": 24,
   "id": "db536e21-4f76-4cf7-8f3a-3c3790df7a42",
   "metadata": {},
   "outputs": [
    {
     "name": "stdout",
     "output_type": "stream",
     "text": [
      "     user_id  max_order\n",
      "0          1         10\n",
      "59         2         14\n",
      "254        3         12\n",
      "342        4          5\n",
      "360        5          4\n"
     ]
    }
   ],
   "source": [
    "#chatgpt \n",
    "# Step 1: Calculate the number of orders for each customer (user_id)\n",
    "order_counts = ords_prods_cust.groupby('user_id')['order_id'].nunique()\n",
    "\n",
    "# Step 2: Map the order counts back to the DataFrame\n",
    "ords_prods_cust['max_order'] = ords_prods_cust['user_id'].map(order_counts)\n",
    "\n",
    "# Check if the 'max_order' column was created successfully\n",
    "print(ords_prods_cust[['user_id', 'max_order']].drop_duplicates().head())\n"
   ]
  },
  {
   "cell_type": "code",
   "execution_count": 25,
   "id": "305f8eda-58bb-4eec-b884-c545f6816cb8",
   "metadata": {},
   "outputs": [
    {
     "name": "stdout",
     "output_type": "stream",
     "text": [
      "   user_id  max_order           activity_flag\n",
      "0        1         10  high-activity customer\n",
      "1        1         10  high-activity customer\n",
      "2        1         10  high-activity customer\n",
      "3        1         10  high-activity customer\n",
      "4        1         10  high-activity customer\n"
     ]
    }
   ],
   "source": [
    "#gpt\n",
    "# Step 1: Create the 'activity_flag' column based on the 'max_order' column\n",
    "ords_prods_cust.loc[ords_prods_cust['max_order'] < 5, 'activity_flag'] = 'low-activity customer'\n",
    "ords_prods_cust.loc[ords_prods_cust['max_order'] >= 5, 'activity_flag'] = 'high-activity customer'\n",
    "\n",
    "# Step 2: Check if 'activity_flag' is created successfully\n",
    "print(ords_prods_cust[['user_id', 'max_order', 'activity_flag']].head())\n"
   ]
  },
  {
   "cell_type": "code",
   "execution_count": 26,
   "id": "7b086cbb-3e5c-469b-a3eb-ee70e0a9f4e9",
   "metadata": {},
   "outputs": [
    {
     "name": "stdout",
     "output_type": "stream",
     "text": [
      "Index(['order_id', 'user_id', 'order_number', 'order_day_of_week',\n",
      "       'order_hour_of_day', 'days_since_prior_order', 'product_id',\n",
      "       'add_to_cart_order', 'reordered', '_merge', 'product_name', 'aisle_id',\n",
      "       'department_id', 'prices', 'first_name', 'surname', 'gender', 'state',\n",
      "       'age', 'date_joined', 'n_dependants', 'fam_status', 'income', 'region',\n",
      "       'spender_flag', 'max_order', 'activity_flag'],\n",
      "      dtype='object')\n",
      "   user_id  max_order           activity_flag\n",
      "0        1         10  high-activity customer\n",
      "1        1         10  high-activity customer\n",
      "2        1         10  high-activity customer\n",
      "3        1         10  high-activity customer\n",
      "4        1         10  high-activity customer\n"
     ]
    }
   ],
   "source": [
    "#CHATGPT # Print column names to check if 'activity_flag' exists\n",
    "print(ords_prods_cust.columns)\n",
    "\n",
    "# Optionally, inspect the first few rows to ensure the flag column was created\n",
    "print(ords_prods_cust[['user_id', 'max_order', 'activity_flag']].head())\n"
   ]
  },
  {
   "cell_type": "code",
   "execution_count": 27,
   "id": "b5b1679d-f342-4067-8b82-105ba062d2de",
   "metadata": {},
   "outputs": [
    {
     "name": "stdout",
     "output_type": "stream",
     "text": [
      "activity_flag  high-activity customer  low-activity customer\n",
      "region                                                      \n",
      "Midwest                       7261503                 335822\n",
      "Northeast                     4259878                 199183\n",
      "South                        10311112                 480773\n",
      "West                          7927227                 365686\n",
      "NaN                           1204798                  58877\n"
     ]
    }
   ],
   "source": [
    "# Create the crosstab for region vs. activity flag\n",
    "crosstab = pd.crosstab(ords_prods_cust['region'], ords_prods_cust['activity_flag'], dropna=False)\n",
    "\n",
    "# Check the result\n",
    "print(crosstab)\n"
   ]
  },
  {
   "cell_type": "code",
   "execution_count": 28,
   "id": "0cf3a4df-fe3e-4b5b-aee2-3cfdc22cc4e8",
   "metadata": {},
   "outputs": [],
   "source": [
    "# Create a flag for customers with less than 5 orders\n",
    "ords_prods_cust.loc[ords_prods_cust['max_order'] < 5, 'activity_flag'] = 'low-activity customer'\n",
    "ords_prods_cust.loc[ords_prods_cust['max_order'] >= 5, 'activity_flag'] = 'high-activity customer'"
   ]
  },
  {
   "cell_type": "code",
   "execution_count": 29,
   "id": "7ad4171d-dc0c-458b-8e7e-c60de829ccf2",
   "metadata": {},
   "outputs": [
    {
     "data": {
      "text/plain": [
       "activity_flag\n",
       "high-activity customer    30964518\n",
       "low-activity customer      1440341\n",
       "Name: count, dtype: int64"
      ]
     },
     "execution_count": 29,
     "metadata": {},
     "output_type": "execute_result"
    }
   ],
   "source": [
    "ords_prods_cust['activity_flag'].value_counts(dropna = False)"
   ]
  },
  {
   "cell_type": "code",
   "execution_count": 30,
   "id": "83633cee-a7ff-4d75-bb1e-9495e1c4c922",
   "metadata": {},
   "outputs": [],
   "source": [
    "# Exclude low-activity customers from the dataframe\n",
    "df_excluded = ords_prods_cust[ords_prods_cust['activity_flag'] != 'low-activity customer']"
   ]
  },
  {
   "cell_type": "code",
   "execution_count": 31,
   "id": "737c2023-b606-4658-b250-f5079d48611e",
   "metadata": {},
   "outputs": [],
   "source": [
    "# Export the new dataframe\n",
    "df_excluded.to_pickle(os.path.join(path, '02 Data','Prepared Data', 'low_activity_excluded.pkl'))"
   ]
  },
  {
   "cell_type": "markdown",
   "id": "23f464d8-d880-4fd2-a338-2e0b4100312d",
   "metadata": {},
   "source": [
    "# 5. & 6. Create a profiling variable based on age, income, certain goods in the “department_id” column, and number of dependents. You might also use the “orders_day_of_week” and “order_hour_of_day” columns if you can think of a way they would impact customer profiles. Then create images"
   ]
  },
  {
   "cell_type": "markdown",
   "id": "505bc539-300e-475b-a75b-3b209fae03b9",
   "metadata": {},
   "source": [
    "## Income"
   ]
  },
  {
   "cell_type": "code",
   "execution_count": 34,
   "id": "eb961975-483e-47d5-8905-826a948b034c",
   "metadata": {},
   "outputs": [
    {
     "name": "stderr",
     "output_type": "stream",
     "text": [
      "/var/folders/0g/xr0wqnt55l9gzqjgx49c_h8r0000gp/T/ipykernel_5309/1030381792.py:2: SettingWithCopyWarning: \n",
      "A value is trying to be set on a copy of a slice from a DataFrame.\n",
      "Try using .loc[row_indexer,col_indexer] = value instead\n",
      "\n",
      "See the caveats in the documentation: https://pandas.pydata.org/pandas-docs/stable/user_guide/indexing.html#returning-a-view-versus-a-copy\n",
      "  df_excluded.loc[df_excluded['income'] <= 55000, 'income_group'] = 'low-income'\n"
     ]
    }
   ],
   "source": [
    "# Create an income group variable\n",
    "df_excluded.loc[df_excluded['income'] <= 55000, 'income_group'] = 'low-income'\n",
    "df_excluded.loc[(df_excluded['income'] > 55000) & (df_excluded['income'] <= 150000), 'income_group'] = 'middle-income'\n",
    "df_excluded.loc[df_excluded['income'] > 150000, 'income_group'] = 'high-income'"
   ]
  },
  {
   "cell_type": "code",
   "execution_count": 35,
   "id": "1022a3fe-1997-40a0-a854-0c5f147895d9",
   "metadata": {
    "scrolled": true
   },
   "outputs": [
    {
     "data": {
      "text/plain": [
       "income_group\n",
       "middle-income    22617631\n",
       "low-income        4452378\n",
       "high-income       3894509\n",
       "Name: count, dtype: int64"
      ]
     },
     "execution_count": 35,
     "metadata": {},
     "output_type": "execute_result"
    }
   ],
   "source": [
    "# Check the counts of income groups\n",
    "df_excluded['income_group'].value_counts(dropna = False)"
   ]
  },
  {
   "cell_type": "code",
   "execution_count": 36,
   "id": "00f60a13-7261-46c0-96e7-25a627ca79d9",
   "metadata": {},
   "outputs": [
    {
     "data": {
      "image/png": "[encoded data removed]",
      "text/plain": [
       "<Figure size 640x480 with 1 Axes>"
      ]
     },
     "metadata": {},
     "output_type": "display_data"
    }
   ],
   "source": [
    "# Make a bar chart showing the distribution of income groups\n",
    "income_group_counts = df_excluded['income_group'].value_counts(dropna=False)\n",
    "income_group_distribution_bar = income_group_counts.plot.bar()  \n",
    "plt.title('Distribution of Income Groups')\n",
    "plt.xlabel('')\n",
    "plt.ylabel('Count')\n",
    "plt.show()"
   ]
  },
  {
   "cell_type": "code",
   "execution_count": 37,
   "id": "4a752afb-0b74-4722-b89e-f9521fdc41ce",
   "metadata": {},
   "outputs": [],
   "source": [
    "# Export the bar chart\n",
    "income_group_distribution_bar.figure.savefig(os.path.join(path, '04 Analysis','Visualizations', 'income_distribution_bar.png'))"
   ]
  },
  {
   "cell_type": "markdown",
   "id": "3e96401d-76a8-4e4e-a4a1-a3038e4ea5c6",
   "metadata": {},
   "source": [
    "## Age"
   ]
  },
  {
   "cell_type": "code",
   "execution_count": 39,
   "id": "9c9a7dac-a1f9-4735-ad3b-0f28bc30a27a",
   "metadata": {
    "scrolled": true
   },
   "outputs": [
    {
     "name": "stderr",
     "output_type": "stream",
     "text": [
      "/var/folders/0g/xr0wqnt55l9gzqjgx49c_h8r0000gp/T/ipykernel_5309/2854730798.py:2: SettingWithCopyWarning: \n",
      "A value is trying to be set on a copy of a slice from a DataFrame.\n",
      "Try using .loc[row_indexer,col_indexer] = value instead\n",
      "\n",
      "See the caveats in the documentation: https://pandas.pydata.org/pandas-docs/stable/user_guide/indexing.html#returning-a-view-versus-a-copy\n",
      "  df_excluded.loc[df_excluded['age'] <= 25, 'age_group'] = 'young adult'\n"
     ]
    }
   ],
   "source": [
    "# Create an age group variable\n",
    "df_excluded.loc[df_excluded['age'] <= 25, 'age_group'] = 'young adult'\n",
    "df_excluded.loc[(df_excluded['age'] > 25) & (df_excluded['age'] <= 44), 'age_group'] = 'adult'\n",
    "df_excluded.loc[(df_excluded['age'] > 44) & (df_excluded['age'] <= 64), 'age_group'] = 'middle-aged'\n",
    "df_excluded.loc[df_excluded['age'] > 64, 'age_group'] = 'senior'"
   ]
  },
  {
   "cell_type": "code",
   "execution_count": 40,
   "id": "a43ecc02-da80-4524-a424-3e8a41b7106a",
   "metadata": {
    "scrolled": true
   },
   "outputs": [
    {
     "data": {
      "text/plain": [
       "age_group\n",
       "middle-aged    9690024\n",
       "adult          9214441\n",
       "senior         8195535\n",
       "young adult    3864518\n",
       "Name: count, dtype: int64"
      ]
     },
     "execution_count": 40,
     "metadata": {},
     "output_type": "execute_result"
    }
   ],
   "source": [
    "# Check value counts for each age group\n",
    "age_group_counts = df_excluded['age_group'].value_counts(dropna = False)\n",
    "age_group_counts"
   ]
  },
  {
   "cell_type": "code",
   "execution_count": 41,
   "id": "ec3831b2-9521-4edf-9d12-7136859d07e4",
   "metadata": {},
   "outputs": [
    {
     "data": {
      "image/png": "[encoded data removed]",
      "text/plain": [
       "<Figure size 640x480 with 1 Axes>"
      ]
     },
     "metadata": {},
     "output_type": "display_data"
    }
   ],
   "source": [
    "# Make a pie chart showing the distribution of age groups\n",
    "age_group_distribution_pie = age_group_counts.plot.pie(autopct='%1.1f%%', labels= ['middle-aged: 45-64 years', 'adult: 26-44 years', 'senior: 65+ years', 'young adult: up to 25 years'], startangle=90, colors=['#ff9999','#66b3ff','#99ff99','#ffcc99'])\n",
    "plt.ylabel('')  # Hide the y-label\n",
    "plt.title('Distribution of Age Groups')\n",
    "plt.show()"
   ]
  },
  {
   "cell_type": "code",
   "execution_count": 42,
   "id": "6b6bbee9-55fa-48d4-807d-45fe8d73c2e2",
   "metadata": {},
   "outputs": [],
   "source": [
    "# Export chart\n",
    "age_group_distribution_pie.figure.savefig(os.path.join(path, '04 Analysis','Visualizations', 'age_group_distribution_pie.png'))"
   ]
  },
  {
   "cell_type": "markdown",
   "id": "10a880a9-1a35-42e6-8f80-f464f461005d",
   "metadata": {},
   "source": [
    "## Dependants"
   ]
  },
  {
   "cell_type": "code",
   "execution_count": 44,
   "id": "3238b3d9-6a8d-4bfc-bcc6-13496e9041b0",
   "metadata": {},
   "outputs": [
    {
     "name": "stderr",
     "output_type": "stream",
     "text": [
      "/var/folders/0g/xr0wqnt55l9gzqjgx49c_h8r0000gp/T/ipykernel_5309/2552754020.py:2: SettingWithCopyWarning: \n",
      "A value is trying to be set on a copy of a slice from a DataFrame.\n",
      "Try using .loc[row_indexer,col_indexer] = value instead\n",
      "\n",
      "See the caveats in the documentation: https://pandas.pydata.org/pandas-docs/stable/user_guide/indexing.html#returning-a-view-versus-a-copy\n",
      "  df_excluded.loc[df_excluded['n_dependants'] == 0, 'dependants_flag'] = 'no dependants'\n"
     ]
    }
   ],
   "source": [
    "# Create a dependents flag\n",
    "df_excluded.loc[df_excluded['n_dependants'] == 0, 'dependants_flag'] = 'no dependants'\n",
    "df_excluded.loc[df_excluded['n_dependants'] >= 1, 'dependants_flag'] = 'has dependants'"
   ]
  },
  {
   "cell_type": "code",
   "execution_count": 45,
   "id": "70023c5f-d1ee-45ce-904e-4e15e3eef6c5",
   "metadata": {},
   "outputs": [
    {
     "data": {
      "text/plain": [
       "dependants_flag\n",
       "has dependants    23224872\n",
       "no dependants      7739646\n",
       "Name: count, dtype: int64"
      ]
     },
     "execution_count": 45,
     "metadata": {},
     "output_type": "execute_result"
    }
   ],
   "source": [
    "# Check value counts\n",
    "dependant_counts = df_excluded['dependants_flag'].value_counts(dropna = False)\n",
    "dependant_counts"
   ]
  },
  {
   "cell_type": "code",
   "execution_count": 46,
   "id": "399ba02d-a9b8-4463-a34a-38a0048508f8",
   "metadata": {},
   "outputs": [
    {
     "data": {
      "image/png": "[encoded data removed]",
      "text/plain": [
       "<Figure size 640x480 with 1 Axes>"
      ]
     },
     "metadata": {},
     "output_type": "display_data"
    }
   ],
   "source": [
    "# Make a pie chart showing the percentage of dependants\n",
    "dependants_pie = dependant_counts.plot.pie(autopct='%1.1f%%', labels= ['has dependants', 'no dependants'], startangle=90, colors=['#ff9999','#66b3ff'])\n",
    "plt.ylabel('')  # Hide the y-label\n",
    "plt.title('Percentage Having Dependants')\n",
    "plt.show()"
   ]
  },
  {
   "cell_type": "code",
   "execution_count": 47,
   "id": "b9f4665f-585a-4043-86ba-fe6fb79c2557",
   "metadata": {},
   "outputs": [],
   "source": [
    "# Export the new dataframe\n",
    "df_excluded.to_pickle(os.path.join(path, '02 Data','Prepared Data', 'low_activity_excluded.pkl'))"
   ]
  },
  {
   "cell_type": "code",
   "execution_count": 48,
   "id": "07270676-4ab8-401e-b068-d05ca2759ee0",
   "metadata": {},
   "outputs": [],
   "source": [
    "# import dataframe\n",
    "df_excluded = pd.read_pickle(os.path.join(path, '02 Data', 'Prepared Data', 'low_activity_excluded.pkl'))"
   ]
  },
  {
   "cell_type": "code",
   "execution_count": 49,
   "id": "86b43788-f292-41b0-95ef-060a6bececb1",
   "metadata": {},
   "outputs": [
    {
     "data": {
      "text/plain": [
       "['order_id',\n",
       " 'user_id',\n",
       " 'order_number',\n",
       " 'order_day_of_week',\n",
       " 'order_hour_of_day',\n",
       " 'days_since_prior_order',\n",
       " 'product_id',\n",
       " 'add_to_cart_order',\n",
       " 'reordered',\n",
       " '_merge',\n",
       " 'product_name',\n",
       " 'aisle_id',\n",
       " 'department_id',\n",
       " 'prices',\n",
       " 'first_name',\n",
       " 'surname',\n",
       " 'gender',\n",
       " 'state',\n",
       " 'age',\n",
       " 'date_joined',\n",
       " 'n_dependants',\n",
       " 'fam_status',\n",
       " 'income',\n",
       " 'region',\n",
       " 'spender_flag',\n",
       " 'max_order',\n",
       " 'activity_flag',\n",
       " 'income_group',\n",
       " 'age_group',\n",
       " 'dependants_flag']"
      ]
     },
     "execution_count": 49,
     "metadata": {},
     "output_type": "execute_result"
    }
   ],
   "source": [
    "list(df_excluded.columns.values)"
   ]
  },
  {
   "cell_type": "markdown",
   "id": "9617e38b-47e2-47d8-b513-d73786b0ba73",
   "metadata": {},
   "source": [
    "## Loyalty vs Age Group"
   ]
  },
  {
   "cell_type": "code",
   "execution_count": 86,
   "id": "e9739597-6820-4fcc-8a37-ee174136c0ad",
   "metadata": {},
   "outputs": [
    {
     "name": "stdout",
     "output_type": "stream",
     "text": [
      "Index(['order_id', 'user_id', 'order_number', 'order_day_of_week',\n",
      "       'order_hour_of_day', 'days_since_prior_order', 'product_id',\n",
      "       'add_to_cart_order', 'reordered', '_merge', 'product_name', 'aisle_id',\n",
      "       'department_id', 'prices', 'first_name', 'surname', 'gender', 'state',\n",
      "       'age', 'date_joined', 'n_dependants', 'fam_status', 'income', 'region',\n",
      "       'spender_flag', 'max_order', 'activity_flag', 'income_group',\n",
      "       'age_group', 'dependants_flag'],\n",
      "      dtype='object')\n",
      "False\n"
     ]
    }
   ],
   "source": [
    "#gpt help\n",
    "\n",
    "# List the columns to check if 'loyalty_flag' exists\n",
    "print(df_excluded.columns)\n",
    "\n",
    "# Check if 'loyalty_flag' exists specifically\n",
    "print('loyalty_flag' in df_excluded.columns)  # Should return True if the column exists\n"
   ]
  },
  {
   "cell_type": "code",
   "execution_count": 90,
   "id": "eca95212-8f4c-4115-ac96-d6f73980d980",
   "metadata": {},
   "outputs": [
    {
     "name": "stdout",
     "output_type": "stream",
     "text": [
      "   user_id loyalty_flag\n",
      "0        1    Non-loyal\n",
      "1        1    Non-loyal\n",
      "2        1    Non-loyal\n",
      "3        1    Non-loyal\n",
      "4        1    Non-loyal\n",
      "age_group       adult  middle-aged   senior  young adult\n",
      "loyalty_flag                                            \n",
      "Loyal         7508466      7856988  6637433      3139695\n",
      "Non-loyal     1705975      1833036  1558102       724823\n"
     ]
    }
   ],
   "source": [
    "#gpt\n",
    "# Step 1: Calculate total spending per user\n",
    "total_spending = df_excluded.groupby('user_id')['prices'].sum().reset_index()\n",
    "\n",
    "# Merge the total spending into the main dataframe\n",
    "df_excluded = pd.merge(df_excluded, total_spending, on='user_id', suffixes=('', '_total'))\n",
    "\n",
    "# Step 2: Create the 'loyalty_flag' based on total spending\n",
    "df_excluded['loyalty_flag'] = df_excluded['prices_total'].apply(\n",
    "    lambda x: 'Loyal' if x > 1000 else 'Non-loyal'\n",
    ")\n",
    "\n",
    "# Step 3: Verify the creation of the 'loyalty_flag' column\n",
    "print(df_excluded[['user_id', 'loyalty_flag']].head())\n",
    "\n",
    "# Step 4: Create the crosstab for 'loyalty_flag' vs 'age_group'\n",
    "loyalty_age_cross = pd.crosstab(df_excluded['loyalty_flag'], df_excluded['age_group'], dropna=False)\n",
    "\n",
    "# Step 5: Display the crosstab result\n",
    "print(loyalty_age_cross)\n"
   ]
  },
  {
   "cell_type": "code",
   "execution_count": 98,
   "id": "9b964e6c-2497-4bfa-bd8c-eec793a278aa",
   "metadata": {},
   "outputs": [
    {
     "data": {
      "text/plain": [
       "(array([0, 1]), [Text(0, 0, 'Loyal'), Text(1, 0, 'Non-loyal')])"
      ]
     },
     "execution_count": 98,
     "metadata": {},
     "output_type": "execute_result"
    },
    {
     "data": {
      "image/png": "[encoded data removed]",
      "text/plain": [
       "<Figure size 640x480 with 1 Axes>"
      ]
     },
     "metadata": {},
     "output_type": "display_data"
    }
   ],
   "source": [
    "# bar chart\n",
    "loyalty_age_bar = loyalty_age_cross.plot.bar()\n",
    "plt.title('Loyalty by Age Group')\n",
    "plt.xlabel('')\n",
    "plt.ylabel('count')\n",
    "plt.xticks(rotation=0)"
   ]
  },
  {
   "cell_type": "code",
   "execution_count": 100,
   "id": "fa5462f4-f8b6-4a21-ba63-6f918083a99b",
   "metadata": {},
   "outputs": [],
   "source": [
    "# Export the chart\n",
    "loyalty_age_bar.figure.savefig(os.path.join(path, '04 Analysis','Visualizations', 'loyalty_age_group_bar.png'))"
   ]
  },
  {
   "cell_type": "markdown",
   "id": "f3cd4f34-f1d9-4864-8d8a-5e0c8ce2c132",
   "metadata": {},
   "source": [
    "## Spending vs Age Group"
   ]
  },
  {
   "cell_type": "code",
   "execution_count": 102,
   "id": "db3eb7b8-f77f-40ae-ad4e-ed3f9329a1c7",
   "metadata": {},
   "outputs": [
    {
     "data": {
      "text/html": [
       "<div>\n",
       "<style scoped>\n",
       "    .dataframe tbody tr th:only-of-type {\n",
       "        vertical-align: middle;\n",
       "    }\n",
       "\n",
       "    .dataframe tbody tr th {\n",
       "        vertical-align: top;\n",
       "    }\n",
       "\n",
       "    .dataframe thead th {\n",
       "        text-align: right;\n",
       "    }\n",
       "</style>\n",
       "<table border=\"1\" class=\"dataframe\">\n",
       "  <thead>\n",
       "    <tr style=\"text-align: right;\">\n",
       "      <th>age_group</th>\n",
       "      <th>adult</th>\n",
       "      <th>middle-aged</th>\n",
       "      <th>senior</th>\n",
       "      <th>young adult</th>\n",
       "    </tr>\n",
       "    <tr>\n",
       "      <th>spender_flag</th>\n",
       "      <th></th>\n",
       "      <th></th>\n",
       "      <th></th>\n",
       "      <th></th>\n",
       "    </tr>\n",
       "  </thead>\n",
       "  <tbody>\n",
       "    <tr>\n",
       "      <th>True</th>\n",
       "      <td>9214441</td>\n",
       "      <td>9690024</td>\n",
       "      <td>8195535</td>\n",
       "      <td>3864518</td>\n",
       "    </tr>\n",
       "  </tbody>\n",
       "</table>\n",
       "</div>"
      ],
      "text/plain": [
       "age_group       adult  middle-aged   senior  young adult\n",
       "spender_flag                                            \n",
       "True          9214441      9690024  8195535      3864518"
      ]
     },
     "execution_count": 102,
     "metadata": {},
     "output_type": "execute_result"
    }
   ],
   "source": [
    "# Crosstab spending with age group\n",
    "spending_age_cross = pd.crosstab(df_excluded['spender_flag'], df_excluded['age_group'], dropna = False)\n",
    "spending_age_cross"
   ]
  },
  {
   "cell_type": "code",
   "execution_count": 104,
   "id": "75512eac-b83e-4200-a8fb-42e605d1472b",
   "metadata": {},
   "outputs": [
    {
     "data": {
      "text/plain": [
       "(array([0]), [Text(0, 0, 'True')])"
      ]
     },
     "execution_count": 104,
     "metadata": {},
     "output_type": "execute_result"
    },
    {
     "data": {
      "image/png": "[encoded data removed]",
      "text/plain": [
       "<Figure size 640x480 with 1 Axes>"
      ]
     },
     "metadata": {},
     "output_type": "display_data"
    }
   ],
   "source": [
    "# bar chart\n",
    "spending_age_bar = spending_age_cross.plot.bar()\n",
    "plt.title('Spending by Age Group')\n",
    "plt.xlabel('')\n",
    "plt.ylabel('count')\n",
    "plt.xticks(rotation=0)"
   ]
  },
  {
   "cell_type": "code",
   "execution_count": 106,
   "id": "d684104f-dcc2-4ac0-bb75-7d5a51ecf7b8",
   "metadata": {},
   "outputs": [],
   "source": [
    "# Export the chart\n",
    "spending_age_bar.figure.savefig(os.path.join(path, '04 Analysis','Visualizations', 'spending_age_group_bar.png'))"
   ]
  },
  {
   "cell_type": "markdown",
   "id": "9ff0a9b3-62ea-40d1-9d95-1d1f8048b30d",
   "metadata": {},
   "source": [
    "## Redo regional spending with low activity customers excluded"
   ]
  },
  {
   "cell_type": "code",
   "execution_count": 109,
   "id": "c1b4ec0a-b272-428e-b865-0a7bb0464f6f",
   "metadata": {},
   "outputs": [],
   "source": [
    "df_excluded.loc[df_excluded['state'] == 'Pennsylvania', 'region'] = 'Northeast'"
   ]
  },
  {
   "cell_type": "code",
   "execution_count": 111,
   "id": "024a18f4-ce3c-4ef8-adc0-f7dd2ba9405d",
   "metadata": {},
   "outputs": [],
   "source": [
    "# Crosstab Region to spending flag\n",
    "region_spending_cross = pd.crosstab(df_excluded['region'], df_excluded['spender_flag'], dropna = False)"
   ]
  },
  {
   "cell_type": "code",
   "execution_count": 113,
   "id": "9452b526-723e-4604-9bed-5bfae5b1861d",
   "metadata": {},
   "outputs": [
    {
     "data": {
      "text/html": [
       "<div>\n",
       "<style scoped>\n",
       "    .dataframe tbody tr th:only-of-type {\n",
       "        vertical-align: middle;\n",
       "    }\n",
       "\n",
       "    .dataframe tbody tr th {\n",
       "        vertical-align: top;\n",
       "    }\n",
       "\n",
       "    .dataframe thead th {\n",
       "        text-align: right;\n",
       "    }\n",
       "</style>\n",
       "<table border=\"1\" class=\"dataframe\">\n",
       "  <thead>\n",
       "    <tr style=\"text-align: right;\">\n",
       "      <th>spender_flag</th>\n",
       "      <th>True</th>\n",
       "    </tr>\n",
       "    <tr>\n",
       "      <th>region</th>\n",
       "      <th></th>\n",
       "    </tr>\n",
       "  </thead>\n",
       "  <tbody>\n",
       "    <tr>\n",
       "      <th>Midwest</th>\n",
       "      <td>7261503</td>\n",
       "    </tr>\n",
       "    <tr>\n",
       "      <th>Northeast</th>\n",
       "      <td>4259878</td>\n",
       "    </tr>\n",
       "    <tr>\n",
       "      <th>South</th>\n",
       "      <td>10311112</td>\n",
       "    </tr>\n",
       "    <tr>\n",
       "      <th>West</th>\n",
       "      <td>7927227</td>\n",
       "    </tr>\n",
       "    <tr>\n",
       "      <th>NaN</th>\n",
       "      <td>1204798</td>\n",
       "    </tr>\n",
       "  </tbody>\n",
       "</table>\n",
       "</div>"
      ],
      "text/plain": [
       "spender_flag      True\n",
       "region                \n",
       "Midwest        7261503\n",
       "Northeast      4259878\n",
       "South         10311112\n",
       "West           7927227\n",
       "NaN            1204798"
      ]
     },
     "execution_count": 113,
     "metadata": {},
     "output_type": "execute_result"
    }
   ],
   "source": [
    "region_spending_cross"
   ]
  },
  {
   "cell_type": "code",
   "execution_count": 115,
   "id": "56e9a2a7-266e-4940-af39-4095655f5e46",
   "metadata": {},
   "outputs": [
    {
     "data": {
      "text/plain": [
       "(array([0, 1, 2, 3, 4]),\n",
       " [Text(0, 0, 'Midwest'),\n",
       "  Text(1, 0, 'Northeast'),\n",
       "  Text(2, 0, 'South'),\n",
       "  Text(3, 0, 'West'),\n",
       "  Text(4, 0, 'nan')])"
      ]
     },
     "execution_count": 115,
     "metadata": {},
     "output_type": "execute_result"
    },
    {
     "data": {
      "image/png": "[encoded data removed]",
      "text/plain": [
       "<Figure size 640x480 with 1 Axes>"
      ]
     },
     "metadata": {},
     "output_type": "display_data"
    }
   ],
   "source": [
    "# bar chart\n",
    "region_spending_bar = region_spending_cross.plot.bar()\n",
    "plt.title('Spending by Region')\n",
    "plt.xlabel('')\n",
    "plt.ylabel('count')\n",
    "plt.xticks(rotation=0)"
   ]
  },
  {
   "cell_type": "code",
   "execution_count": 117,
   "id": "60171068-f9d1-4507-8dc2-63f1bc203def",
   "metadata": {},
   "outputs": [],
   "source": [
    "# Export the chart\n",
    "region_spending_bar.figure.savefig(os.path.join(path, '04 Analysis','Visualizations', 'region_spending_bar.png'))"
   ]
  },
  {
   "cell_type": "markdown",
   "id": "fb8f2fd4-9e6c-462e-bfa6-29ef06260db7",
   "metadata": {},
   "source": [
    "## Orders by Department"
   ]
  },
  {
   "cell_type": "code",
   "execution_count": 120,
   "id": "43f27492-e62b-4dbe-a775-06d0a5e889db",
   "metadata": {},
   "outputs": [],
   "source": [
    "# Import departments dataframe\n",
    "dept = pd.read_csv(os.path.join(path, '02 Data', 'Prepared Data', 'departments_wrangled.csv'))"
   ]
  },
  {
   "cell_type": "code",
   "execution_count": 122,
   "id": "9291ee65-7f50-41c7-891f-6f2159c63123",
   "metadata": {},
   "outputs": [
    {
     "data": {
      "text/html": [
       "<div>\n",
       "<style scoped>\n",
       "    .dataframe tbody tr th:only-of-type {\n",
       "        vertical-align: middle;\n",
       "    }\n",
       "\n",
       "    .dataframe tbody tr th {\n",
       "        vertical-align: top;\n",
       "    }\n",
       "\n",
       "    .dataframe thead th {\n",
       "        text-align: right;\n",
       "    }\n",
       "</style>\n",
       "<table border=\"1\" class=\"dataframe\">\n",
       "  <thead>\n",
       "    <tr style=\"text-align: right;\">\n",
       "      <th></th>\n",
       "      <th>Unnamed: 0</th>\n",
       "      <th>department</th>\n",
       "    </tr>\n",
       "  </thead>\n",
       "  <tbody>\n",
       "    <tr>\n",
       "      <th>0</th>\n",
       "      <td>1</td>\n",
       "      <td>frozen</td>\n",
       "    </tr>\n",
       "    <tr>\n",
       "      <th>1</th>\n",
       "      <td>2</td>\n",
       "      <td>other</td>\n",
       "    </tr>\n",
       "    <tr>\n",
       "      <th>2</th>\n",
       "      <td>3</td>\n",
       "      <td>bakery</td>\n",
       "    </tr>\n",
       "    <tr>\n",
       "      <th>3</th>\n",
       "      <td>4</td>\n",
       "      <td>produce</td>\n",
       "    </tr>\n",
       "    <tr>\n",
       "      <th>4</th>\n",
       "      <td>5</td>\n",
       "      <td>alcohol</td>\n",
       "    </tr>\n",
       "    <tr>\n",
       "      <th>5</th>\n",
       "      <td>6</td>\n",
       "      <td>international</td>\n",
       "    </tr>\n",
       "    <tr>\n",
       "      <th>6</th>\n",
       "      <td>7</td>\n",
       "      <td>beverages</td>\n",
       "    </tr>\n",
       "    <tr>\n",
       "      <th>7</th>\n",
       "      <td>8</td>\n",
       "      <td>pets</td>\n",
       "    </tr>\n",
       "    <tr>\n",
       "      <th>8</th>\n",
       "      <td>9</td>\n",
       "      <td>dry goods pasta</td>\n",
       "    </tr>\n",
       "    <tr>\n",
       "      <th>9</th>\n",
       "      <td>10</td>\n",
       "      <td>bulk</td>\n",
       "    </tr>\n",
       "    <tr>\n",
       "      <th>10</th>\n",
       "      <td>11</td>\n",
       "      <td>personal care</td>\n",
       "    </tr>\n",
       "    <tr>\n",
       "      <th>11</th>\n",
       "      <td>12</td>\n",
       "      <td>meat seafood</td>\n",
       "    </tr>\n",
       "    <tr>\n",
       "      <th>12</th>\n",
       "      <td>13</td>\n",
       "      <td>pantry</td>\n",
       "    </tr>\n",
       "    <tr>\n",
       "      <th>13</th>\n",
       "      <td>14</td>\n",
       "      <td>breakfast</td>\n",
       "    </tr>\n",
       "    <tr>\n",
       "      <th>14</th>\n",
       "      <td>15</td>\n",
       "      <td>canned goods</td>\n",
       "    </tr>\n",
       "    <tr>\n",
       "      <th>15</th>\n",
       "      <td>16</td>\n",
       "      <td>dairy eggs</td>\n",
       "    </tr>\n",
       "    <tr>\n",
       "      <th>16</th>\n",
       "      <td>17</td>\n",
       "      <td>household</td>\n",
       "    </tr>\n",
       "    <tr>\n",
       "      <th>17</th>\n",
       "      <td>18</td>\n",
       "      <td>babies</td>\n",
       "    </tr>\n",
       "    <tr>\n",
       "      <th>18</th>\n",
       "      <td>19</td>\n",
       "      <td>snacks</td>\n",
       "    </tr>\n",
       "    <tr>\n",
       "      <th>19</th>\n",
       "      <td>20</td>\n",
       "      <td>deli</td>\n",
       "    </tr>\n",
       "    <tr>\n",
       "      <th>20</th>\n",
       "      <td>21</td>\n",
       "      <td>missing</td>\n",
       "    </tr>\n",
       "  </tbody>\n",
       "</table>\n",
       "</div>"
      ],
      "text/plain": [
       "    Unnamed: 0       department\n",
       "0            1           frozen\n",
       "1            2            other\n",
       "2            3           bakery\n",
       "3            4          produce\n",
       "4            5          alcohol\n",
       "5            6    international\n",
       "6            7        beverages\n",
       "7            8             pets\n",
       "8            9  dry goods pasta\n",
       "9           10             bulk\n",
       "10          11    personal care\n",
       "11          12     meat seafood\n",
       "12          13           pantry\n",
       "13          14        breakfast\n",
       "14          15     canned goods\n",
       "15          16       dairy eggs\n",
       "16          17        household\n",
       "17          18           babies\n",
       "18          19           snacks\n",
       "19          20             deli\n",
       "20          21          missing"
      ]
     },
     "execution_count": 122,
     "metadata": {},
     "output_type": "execute_result"
    }
   ],
   "source": [
    "dept"
   ]
  },
  {
   "cell_type": "code",
   "execution_count": 126,
   "id": "5acd81c1-dea6-49e9-aa98-925e946e7e2e",
   "metadata": {},
   "outputs": [
    {
     "name": "stdout",
     "output_type": "stream",
     "text": [
      "Index(['order_id', 'user_id', 'order_number', 'order_day_of_week',\n",
      "       'order_hour_of_day', 'days_since_prior_order', 'product_id',\n",
      "       'add_to_cart_order', 'reordered', '_merge', 'product_name', 'aisle_id',\n",
      "       'department_id', 'prices', 'first_name', 'surname', 'gender', 'state',\n",
      "       'age', 'date_joined', 'n_dependants', 'fam_status', 'income', 'region',\n",
      "       'spender_flag', 'max_order', 'activity_flag', 'income_group',\n",
      "       'age_group', 'dependants_flag', 'prices_total', 'loyalty_flag'],\n",
      "      dtype='object')\n",
      "Index(['order_id', 'user_id', 'order_number', 'order_day_of_week',\n",
      "       'order_hour_of_day', 'days_since_prior_order', 'product_id',\n",
      "       'add_to_cart_order', 'reordered', 'product_name', 'aisle_id',\n",
      "       'department_id', 'prices', 'first_name', 'surname', 'gender', 'state',\n",
      "       'age', 'date_joined', 'n_dependants', 'fam_status', 'income', 'region',\n",
      "       'spender_flag', 'max_order', 'activity_flag', 'income_group',\n",
      "       'age_group', 'dependants_flag', 'prices_total', 'loyalty_flag'],\n",
      "      dtype='object')\n"
     ]
    }
   ],
   "source": [
    "#gpt\n",
    "# Check if 'Unnamed: 0' is in the columns list\n",
    "print(df_excluded.columns)\n",
    "\n",
    "# Safely drop the columns\n",
    "df_excluded.drop(columns=['_merge', 'Unnamed: 0'], errors='ignore', inplace=True)\n",
    "\n",
    "# Verify if columns are dropped\n",
    "print(df_excluded.columns)\n"
   ]
  },
  {
   "cell_type": "code",
   "execution_count": 132,
   "id": "f8aad26f-5b81-4945-a2a4-a4e2d01c0a6a",
   "metadata": {},
   "outputs": [
    {
     "name": "stdout",
     "output_type": "stream",
     "text": [
      "Columns in df_excluded: Index(['order_id', 'user_id', 'order_number', 'order_day_of_week',\n",
      "       'order_hour_of_day', 'days_since_prior_order', 'product_id',\n",
      "       'add_to_cart_order', 'reordered', 'product_name', 'aisle_id',\n",
      "       'department_id', 'prices', 'first_name', 'surname', 'gender', 'state',\n",
      "       'age', 'date_joined', 'n_dependants', 'fam_status', 'income', 'region',\n",
      "       'spender_flag', 'max_order', 'activity_flag', 'income_group',\n",
      "       'age_group', 'dependants_flag', 'prices_total', 'loyalty_flag'],\n",
      "      dtype='object')\n",
      "Columns in dept: Index(['Unnamed: 0', 'department'], dtype='object')\n"
     ]
    }
   ],
   "source": [
    "#GPT\n",
    "# Print the column names to ensure 'department_id' exists in both DataFrames\n",
    "print(\"Columns in df_excluded:\", df_excluded.columns)\n",
    "print(\"Columns in dept:\", dept.columns)\n"
   ]
  },
  {
   "cell_type": "code",
   "execution_count": 134,
   "id": "e028dbd9-643c-4ada-a78f-feb79efe7efb",
   "metadata": {},
   "outputs": [
    {
     "name": "stdout",
     "output_type": "stream",
     "text": [
      "   Unnamed: 0 department\n",
      "0           1     frozen\n",
      "1           2      other\n",
      "2           3     bakery\n",
      "3           4    produce\n",
      "4           5    alcohol\n"
     ]
    }
   ],
   "source": [
    "#gpt\n",
    "# Inspect the first few rows of dept to check the contents of 'Unnamed: 0'\n",
    "print(dept.head())\n"
   ]
  },
  {
   "cell_type": "code",
   "execution_count": 136,
   "id": "065f990e-7b21-4d23-8080-e4ba8b60a88a",
   "metadata": {},
   "outputs": [],
   "source": [
    "#gpt \n",
    "dept.rename(columns={'Unnamed: 0': 'department_id'}, inplace=True)\n"
   ]
  },
  {
   "cell_type": "code",
   "execution_count": 138,
   "id": "b68316d9-32a4-4a45-b59c-6f8b12346646",
   "metadata": {},
   "outputs": [],
   "source": [
    "#gpt \n",
    "df_final_merged = df_excluded.merge(dept, on='department_id', indicator='created')\n"
   ]
  },
  {
   "cell_type": "code",
   "execution_count": 140,
   "id": "974232ea-8667-488e-ba2c-6773f2e8bf56",
   "metadata": {
    "scrolled": true
   },
   "outputs": [
    {
     "name": "stdout",
     "output_type": "stream",
     "text": [
      "Columns in df_excluded: Index(['order_id', 'user_id', 'order_number', 'order_day_of_week',\n",
      "       'order_hour_of_day', 'days_since_prior_order', 'product_id',\n",
      "       'add_to_cart_order', 'reordered', 'product_name', 'aisle_id',\n",
      "       'department_id', 'prices', 'first_name', 'surname', 'gender', 'state',\n",
      "       'age', 'date_joined', 'n_dependants', 'fam_status', 'income', 'region',\n",
      "       'spender_flag', 'max_order', 'activity_flag', 'income_group',\n",
      "       'age_group', 'dependants_flag', 'prices_total', 'loyalty_flag'],\n",
      "      dtype='object')\n",
      "Columns in dept: Index(['department_id', 'department'], dtype='object')\n",
      "   order_id  user_id  order_number  order_day_of_week  order_hour_of_day  \\\n",
      "0   2539329        1             1                  2                  8   \n",
      "1   2539329        1             1                  2                  8   \n",
      "2   2539329        1             1                  2                  8   \n",
      "3   2539329        1             1                  2                  8   \n",
      "4   2539329        1             1                  2                  8   \n",
      "\n",
      "   days_since_prior_order  product_id  add_to_cart_order  reordered  \\\n",
      "0                     7.0         196                  1          0   \n",
      "1                     7.0       14084                  2          0   \n",
      "2                     7.0       12427                  3          0   \n",
      "3                     7.0       26088                  4          0   \n",
      "4                     7.0       26405                  5          0   \n",
      "\n",
      "                              product_name  ...  spender_flag  max_order  \\\n",
      "0                                     Soda  ...          True         10   \n",
      "1  Organic Unsweetened Vanilla Almond Milk  ...          True         10   \n",
      "2                      Original Beef Jerky  ...          True         10   \n",
      "3               Aged White Cheddar Popcorn  ...          True         10   \n",
      "4         XL Pick-A-Size Paper Towel Rolls  ...          True         10   \n",
      "\n",
      "            activity_flag income_group age_group dependants_flag prices_total  \\\n",
      "0  high-activity customer   low-income     adult  has dependants        375.7   \n",
      "1  high-activity customer   low-income     adult  has dependants        375.7   \n",
      "2  high-activity customer   low-income     adult  has dependants        375.7   \n",
      "3  high-activity customer   low-income     adult  has dependants        375.7   \n",
      "4  high-activity customer   low-income     adult  has dependants        375.7   \n",
      "\n",
      "   loyalty_flag  department  created  \n",
      "0     Non-loyal   beverages     both  \n",
      "1     Non-loyal  dairy eggs     both  \n",
      "2     Non-loyal      snacks     both  \n",
      "3     Non-loyal      snacks     both  \n",
      "4     Non-loyal   household     both  \n",
      "\n",
      "[5 rows x 33 columns]\n"
     ]
    }
   ],
   "source": [
    "#gpt\n",
    "# Inspect column names of both DataFrames\n",
    "print(\"Columns in df_excluded:\", df_excluded.columns)\n",
    "print(\"Columns in dept:\", dept.columns)\n",
    "\n",
    "# Strip any leading/trailing spaces from column names\n",
    "df_excluded.columns = df_excluded.columns.str.strip()\n",
    "dept.columns = dept.columns.str.strip()\n",
    "\n",
    "# Attempt the merge again\n",
    "df_final_merged = df_excluded.merge(dept, on='department_id', indicator='created')\n",
    "\n",
    "# Check the result\n",
    "print(df_final_merged.head())\n"
   ]
  },
  {
   "cell_type": "code",
   "execution_count": 142,
   "id": "96a39650-a874-42e1-b8e9-b9a16228d2e1",
   "metadata": {},
   "outputs": [],
   "source": [
    "df_final_merged = df_excluded.merge(dept, on='department_id', indicator='created')"
   ]
  },
  {
   "cell_type": "code",
   "execution_count": 144,
   "id": "c7e29a62-e586-4f36-a670-41ccf41d2396",
   "metadata": {},
   "outputs": [],
   "source": [
    "# Exporting new dataframe with department merged \n",
    "df_final_merged.to_pickle(os.path.join(path,'02 Data','Prepared Data','orders_products_customers_departments.pkl'))"
   ]
  },
  {
   "cell_type": "code",
   "execution_count": 146,
   "id": "49207214-dac6-4897-96d1-0114df08c940",
   "metadata": {},
   "outputs": [
    {
     "data": {
      "image/png": "[encoded data removed]",
      "text/plain": [
       "<Figure size 640x480 with 1 Axes>"
      ]
     },
     "metadata": {},
     "output_type": "display_data"
    }
   ],
   "source": [
    "# bar chart frequency of orders vs department\n",
    "depts_bar = df_final_merged['department'].value_counts(ascending=True).plot(kind='barh', color='blue', xlabel = 'Count', title='Products Ordered by Department')"
   ]
  },
  {
   "cell_type": "code",
   "execution_count": 148,
   "id": "0debd1b3-6bd0-4482-abca-3ae9e7a7740e",
   "metadata": {},
   "outputs": [],
   "source": [
    "# Export bar chart\n",
    "depts_bar.figure.savefig(os.path.join(path, '04 Analysis','Visualizations', 'depts_bar.png'))"
   ]
  },
  {
   "cell_type": "markdown",
   "id": "413076f8-1337-4f63-85ae-c5c43b5de792",
   "metadata": {},
   "source": [
    "## Age vs Department"
   ]
  },
  {
   "cell_type": "code",
   "execution_count": 151,
   "id": "62f8e514-4677-49ab-912c-9aa9c5dd5589",
   "metadata": {},
   "outputs": [
    {
     "data": {
      "text/html": [
       "<div>\n",
       "<style scoped>\n",
       "    .dataframe tbody tr th:only-of-type {\n",
       "        vertical-align: middle;\n",
       "    }\n",
       "\n",
       "    .dataframe tbody tr th {\n",
       "        vertical-align: top;\n",
       "    }\n",
       "\n",
       "    .dataframe thead th {\n",
       "        text-align: right;\n",
       "    }\n",
       "</style>\n",
       "<table border=\"1\" class=\"dataframe\">\n",
       "  <thead>\n",
       "    <tr style=\"text-align: right;\">\n",
       "      <th>department</th>\n",
       "      <th>alcohol</th>\n",
       "      <th>babies</th>\n",
       "      <th>bakery</th>\n",
       "      <th>beverages</th>\n",
       "      <th>breakfast</th>\n",
       "      <th>bulk</th>\n",
       "      <th>canned goods</th>\n",
       "      <th>dairy eggs</th>\n",
       "      <th>deli</th>\n",
       "      <th>dry goods pasta</th>\n",
       "      <th>...</th>\n",
       "      <th>household</th>\n",
       "      <th>international</th>\n",
       "      <th>meat seafood</th>\n",
       "      <th>missing</th>\n",
       "      <th>other</th>\n",
       "      <th>pantry</th>\n",
       "      <th>personal care</th>\n",
       "      <th>pets</th>\n",
       "      <th>produce</th>\n",
       "      <th>snacks</th>\n",
       "    </tr>\n",
       "    <tr>\n",
       "      <th>age_group</th>\n",
       "      <th></th>\n",
       "      <th></th>\n",
       "      <th></th>\n",
       "      <th></th>\n",
       "      <th></th>\n",
       "      <th></th>\n",
       "      <th></th>\n",
       "      <th></th>\n",
       "      <th></th>\n",
       "      <th></th>\n",
       "      <th></th>\n",
       "      <th></th>\n",
       "      <th></th>\n",
       "      <th></th>\n",
       "      <th></th>\n",
       "      <th></th>\n",
       "      <th></th>\n",
       "      <th></th>\n",
       "      <th></th>\n",
       "      <th></th>\n",
       "      <th></th>\n",
       "    </tr>\n",
       "  </thead>\n",
       "  <tbody>\n",
       "    <tr>\n",
       "      <th>adult</th>\n",
       "      <td>42167</td>\n",
       "      <td>123044</td>\n",
       "      <td>334152</td>\n",
       "      <td>754849</td>\n",
       "      <td>198803</td>\n",
       "      <td>9902</td>\n",
       "      <td>302479</td>\n",
       "      <td>1549126</td>\n",
       "      <td>299970</td>\n",
       "      <td>243702</td>\n",
       "      <td>...</td>\n",
       "      <td>207552</td>\n",
       "      <td>76675</td>\n",
       "      <td>199124</td>\n",
       "      <td>19130</td>\n",
       "      <td>10198</td>\n",
       "      <td>529307</td>\n",
       "      <td>125522</td>\n",
       "      <td>27034</td>\n",
       "      <td>2712586</td>\n",
       "      <td>824677</td>\n",
       "    </tr>\n",
       "    <tr>\n",
       "      <th>middle-aged</th>\n",
       "      <td>46578</td>\n",
       "      <td>129908</td>\n",
       "      <td>350802</td>\n",
       "      <td>814685</td>\n",
       "      <td>211272</td>\n",
       "      <td>10298</td>\n",
       "      <td>315772</td>\n",
       "      <td>1612489</td>\n",
       "      <td>314107</td>\n",
       "      <td>256920</td>\n",
       "      <td>...</td>\n",
       "      <td>218858</td>\n",
       "      <td>79743</td>\n",
       "      <td>209927</td>\n",
       "      <td>20340</td>\n",
       "      <td>10811</td>\n",
       "      <td>558929</td>\n",
       "      <td>134733</td>\n",
       "      <td>28293</td>\n",
       "      <td>2830851</td>\n",
       "      <td>867560</td>\n",
       "    </tr>\n",
       "    <tr>\n",
       "      <th>senior</th>\n",
       "      <td>36693</td>\n",
       "      <td>106202</td>\n",
       "      <td>295997</td>\n",
       "      <td>684020</td>\n",
       "      <td>175296</td>\n",
       "      <td>8945</td>\n",
       "      <td>267509</td>\n",
       "      <td>1368072</td>\n",
       "      <td>265199</td>\n",
       "      <td>217316</td>\n",
       "      <td>...</td>\n",
       "      <td>186629</td>\n",
       "      <td>67199</td>\n",
       "      <td>181150</td>\n",
       "      <td>16915</td>\n",
       "      <td>8945</td>\n",
       "      <td>472383</td>\n",
       "      <td>111052</td>\n",
       "      <td>25115</td>\n",
       "      <td>2408104</td>\n",
       "      <td>728549</td>\n",
       "    </tr>\n",
       "    <tr>\n",
       "      <th>young adult</th>\n",
       "      <td>19188</td>\n",
       "      <td>51234</td>\n",
       "      <td>139873</td>\n",
       "      <td>318343</td>\n",
       "      <td>85477</td>\n",
       "      <td>4306</td>\n",
       "      <td>126312</td>\n",
       "      <td>647493</td>\n",
       "      <td>124555</td>\n",
       "      <td>104198</td>\n",
       "      <td>...</td>\n",
       "      <td>86814</td>\n",
       "      <td>32374</td>\n",
       "      <td>84580</td>\n",
       "      <td>8383</td>\n",
       "      <td>4456</td>\n",
       "      <td>222086</td>\n",
       "      <td>52996</td>\n",
       "      <td>12618</td>\n",
       "      <td>1127726</td>\n",
       "      <td>345616</td>\n",
       "    </tr>\n",
       "  </tbody>\n",
       "</table>\n",
       "<p>4 rows × 21 columns</p>\n",
       "</div>"
      ],
      "text/plain": [
       "department   alcohol  babies  bakery  beverages  breakfast   bulk  \\\n",
       "age_group                                                           \n",
       "adult          42167  123044  334152     754849     198803   9902   \n",
       "middle-aged    46578  129908  350802     814685     211272  10298   \n",
       "senior         36693  106202  295997     684020     175296   8945   \n",
       "young adult    19188   51234  139873     318343      85477   4306   \n",
       "\n",
       "department   canned goods  dairy eggs    deli  dry goods pasta  ...  \\\n",
       "age_group                                                       ...   \n",
       "adult              302479     1549126  299970           243702  ...   \n",
       "middle-aged        315772     1612489  314107           256920  ...   \n",
       "senior             267509     1368072  265199           217316  ...   \n",
       "young adult        126312      647493  124555           104198  ...   \n",
       "\n",
       "department   household  international  meat seafood  missing  other  pantry  \\\n",
       "age_group                                                                     \n",
       "adult           207552          76675        199124    19130  10198  529307   \n",
       "middle-aged     218858          79743        209927    20340  10811  558929   \n",
       "senior          186629          67199        181150    16915   8945  472383   \n",
       "young adult      86814          32374         84580     8383   4456  222086   \n",
       "\n",
       "department   personal care   pets  produce  snacks  \n",
       "age_group                                           \n",
       "adult               125522  27034  2712586  824677  \n",
       "middle-aged         134733  28293  2830851  867560  \n",
       "senior              111052  25115  2408104  728549  \n",
       "young adult          52996  12618  1127726  345616  \n",
       "\n",
       "[4 rows x 21 columns]"
      ]
     },
     "execution_count": 151,
     "metadata": {},
     "output_type": "execute_result"
    }
   ],
   "source": [
    "# crosstab age group vs department\n",
    "age_dept_cross = pd.crosstab(df_final_merged['age_group'], df_final_merged['department'], dropna = False)\n",
    "age_dept_cross"
   ]
  },
  {
   "cell_type": "code",
   "execution_count": 153,
   "id": "b4a31cd4-5f0a-4e94-81ae-45a88c4bd5e3",
   "metadata": {},
   "outputs": [
    {
     "data": {
      "text/plain": [
       "<matplotlib.legend.Legend at 0x12eb8a270>"
      ]
     },
     "execution_count": 153,
     "metadata": {},
     "output_type": "execute_result"
    },
    {
     "data": {
      "image/png": "[encoded data removed]",
      "text/plain": [
       "<Figure size 1400x1000 with 1 Axes>"
      ]
     },
     "metadata": {},
     "output_type": "display_data"
    }
   ],
   "source": [
    "# bar chart\n",
    "age_dept_bar = age_dept_cross.plot(kind = 'barh', figsize=(14,10))\n",
    "plt.title('Department Sales by Age Group')\n",
    "plt.xlabel('products count')\n",
    "plt.ylabel('age group')\n",
    "# Move legend outside of plot\n",
    "plt.legend(title='Department', bbox_to_anchor=(1.05, 1), loc='upper left', fontsize=12, title_fontsize=14)"
   ]
  },
  {
   "cell_type": "code",
   "execution_count": 155,
   "id": "0c6883d0-ae34-451f-baf8-608330ab6b90",
   "metadata": {},
   "outputs": [],
   "source": [
    "# Export bar chart\n",
    "age_dept_bar.figure.savefig(os.path.join(path, '04 Analysis','Visualizations', 'age_depts_bar.png'))"
   ]
  },
  {
   "cell_type": "markdown",
   "id": "1a6783f3-52ea-41e0-a74c-562cf71d951c",
   "metadata": {},
   "source": [
    "## Income vs Department"
   ]
  },
  {
   "cell_type": "code",
   "execution_count": 158,
   "id": "4886c91c-aa1d-4c5a-8a6f-75daf0e74523",
   "metadata": {},
   "outputs": [
    {
     "data": {
      "text/html": [
       "<div>\n",
       "<style scoped>\n",
       "    .dataframe tbody tr th:only-of-type {\n",
       "        vertical-align: middle;\n",
       "    }\n",
       "\n",
       "    .dataframe tbody tr th {\n",
       "        vertical-align: top;\n",
       "    }\n",
       "\n",
       "    .dataframe thead th {\n",
       "        text-align: right;\n",
       "    }\n",
       "</style>\n",
       "<table border=\"1\" class=\"dataframe\">\n",
       "  <thead>\n",
       "    <tr style=\"text-align: right;\">\n",
       "      <th>department</th>\n",
       "      <th>alcohol</th>\n",
       "      <th>babies</th>\n",
       "      <th>bakery</th>\n",
       "      <th>beverages</th>\n",
       "      <th>breakfast</th>\n",
       "      <th>bulk</th>\n",
       "      <th>canned goods</th>\n",
       "      <th>dairy eggs</th>\n",
       "      <th>deli</th>\n",
       "      <th>dry goods pasta</th>\n",
       "      <th>...</th>\n",
       "      <th>household</th>\n",
       "      <th>international</th>\n",
       "      <th>meat seafood</th>\n",
       "      <th>missing</th>\n",
       "      <th>other</th>\n",
       "      <th>pantry</th>\n",
       "      <th>personal care</th>\n",
       "      <th>pets</th>\n",
       "      <th>produce</th>\n",
       "      <th>snacks</th>\n",
       "    </tr>\n",
       "    <tr>\n",
       "      <th>income_group</th>\n",
       "      <th></th>\n",
       "      <th></th>\n",
       "      <th></th>\n",
       "      <th></th>\n",
       "      <th></th>\n",
       "      <th></th>\n",
       "      <th></th>\n",
       "      <th></th>\n",
       "      <th></th>\n",
       "      <th></th>\n",
       "      <th></th>\n",
       "      <th></th>\n",
       "      <th></th>\n",
       "      <th></th>\n",
       "      <th></th>\n",
       "      <th></th>\n",
       "      <th></th>\n",
       "      <th></th>\n",
       "      <th></th>\n",
       "      <th></th>\n",
       "      <th></th>\n",
       "    </tr>\n",
       "  </thead>\n",
       "  <tbody>\n",
       "    <tr>\n",
       "      <th>high-income</th>\n",
       "      <td>24067</td>\n",
       "      <td>52999</td>\n",
       "      <td>148428</td>\n",
       "      <td>313324</td>\n",
       "      <td>83416</td>\n",
       "      <td>3671</td>\n",
       "      <td>132387</td>\n",
       "      <td>659148</td>\n",
       "      <td>125883</td>\n",
       "      <td>106335</td>\n",
       "      <td>...</td>\n",
       "      <td>92672</td>\n",
       "      <td>32822</td>\n",
       "      <td>91514</td>\n",
       "      <td>8253</td>\n",
       "      <td>4554</td>\n",
       "      <td>231915</td>\n",
       "      <td>53527</td>\n",
       "      <td>12991</td>\n",
       "      <td>1134488</td>\n",
       "      <td>305775</td>\n",
       "    </tr>\n",
       "    <tr>\n",
       "      <th>low-income</th>\n",
       "      <td>22199</td>\n",
       "      <td>43438</td>\n",
       "      <td>144084</td>\n",
       "      <td>479740</td>\n",
       "      <td>116540</td>\n",
       "      <td>5974</td>\n",
       "      <td>112945</td>\n",
       "      <td>680815</td>\n",
       "      <td>141758</td>\n",
       "      <td>92401</td>\n",
       "      <td>...</td>\n",
       "      <td>111507</td>\n",
       "      <td>30240</td>\n",
       "      <td>54717</td>\n",
       "      <td>8902</td>\n",
       "      <td>4958</td>\n",
       "      <td>226221</td>\n",
       "      <td>62888</td>\n",
       "      <td>11782</td>\n",
       "      <td>1139548</td>\n",
       "      <td>673753</td>\n",
       "    </tr>\n",
       "    <tr>\n",
       "      <th>middle-income</th>\n",
       "      <td>98360</td>\n",
       "      <td>313951</td>\n",
       "      <td>828312</td>\n",
       "      <td>1778833</td>\n",
       "      <td>470892</td>\n",
       "      <td>23806</td>\n",
       "      <td>766740</td>\n",
       "      <td>3837217</td>\n",
       "      <td>736190</td>\n",
       "      <td>623400</td>\n",
       "      <td>...</td>\n",
       "      <td>495674</td>\n",
       "      <td>192929</td>\n",
       "      <td>528550</td>\n",
       "      <td>47613</td>\n",
       "      <td>24898</td>\n",
       "      <td>1324569</td>\n",
       "      <td>307888</td>\n",
       "      <td>68287</td>\n",
       "      <td>6805231</td>\n",
       "      <td>1786874</td>\n",
       "    </tr>\n",
       "  </tbody>\n",
       "</table>\n",
       "<p>3 rows × 21 columns</p>\n",
       "</div>"
      ],
      "text/plain": [
       "department     alcohol  babies  bakery  beverages  breakfast   bulk  \\\n",
       "income_group                                                          \n",
       "high-income      24067   52999  148428     313324      83416   3671   \n",
       "low-income       22199   43438  144084     479740     116540   5974   \n",
       "middle-income    98360  313951  828312    1778833     470892  23806   \n",
       "\n",
       "department     canned goods  dairy eggs    deli  dry goods pasta  ...  \\\n",
       "income_group                                                      ...   \n",
       "high-income          132387      659148  125883           106335  ...   \n",
       "low-income           112945      680815  141758            92401  ...   \n",
       "middle-income        766740     3837217  736190           623400  ...   \n",
       "\n",
       "department     household  international  meat seafood  missing  other  \\\n",
       "income_group                                                            \n",
       "high-income        92672          32822         91514     8253   4554   \n",
       "low-income        111507          30240         54717     8902   4958   \n",
       "middle-income     495674         192929        528550    47613  24898   \n",
       "\n",
       "department      pantry  personal care   pets  produce   snacks  \n",
       "income_group                                                    \n",
       "high-income     231915          53527  12991  1134488   305775  \n",
       "low-income      226221          62888  11782  1139548   673753  \n",
       "middle-income  1324569         307888  68287  6805231  1786874  \n",
       "\n",
       "[3 rows x 21 columns]"
      ]
     },
     "execution_count": 158,
     "metadata": {},
     "output_type": "execute_result"
    }
   ],
   "source": [
    "# crosstab income group vs department\n",
    "income_dept_cross = pd.crosstab(df_final_merged['income_group'], df_final_merged['department'], dropna = False)\n",
    "income_dept_cross"
   ]
  },
  {
   "cell_type": "code",
   "execution_count": 159,
   "id": "42b24efd-8cba-4a40-ba3d-21e8e2ab35b9",
   "metadata": {},
   "outputs": [
    {
     "data": {
      "text/plain": [
       "<matplotlib.legend.Legend at 0x130ee16d0>"
      ]
     },
     "execution_count": 159,
     "metadata": {},
     "output_type": "execute_result"
    },
    {
     "data": {
      "image/png": "[encoded data removed]",
      "text/plain": [
       "<Figure size 1400x1000 with 1 Axes>"
      ]
     },
     "metadata": {},
     "output_type": "display_data"
    }
   ],
   "source": [
    "# bar chart\n",
    "income_dept_bar = income_dept_cross.plot(kind = 'barh', figsize=(14,10))\n",
    "plt.title('Department Sales by Income Group')\n",
    "plt.xlabel('products count')\n",
    "plt.ylabel('income group')\n",
    "# Move legend outside of plot\n",
    "plt.legend(title='Department', bbox_to_anchor=(1.05, 1), loc='upper left', fontsize=12, title_fontsize=14)"
   ]
  },
  {
   "cell_type": "code",
   "execution_count": 162,
   "id": "986df647-a233-4319-a6e8-93cbd2e3572b",
   "metadata": {},
   "outputs": [],
   "source": [
    "# Export bar chart\n",
    "income_dept_bar.figure.savefig(os.path.join(path, '04 Analysis','Visualizations', 'income_depts_bar.png'))"
   ]
  },
  {
   "cell_type": "markdown",
   "id": "3043bd4f-42da-49c3-a0c2-020f3f9850ce",
   "metadata": {},
   "source": [
    "# 7. Aggregate the max, mean, and min variables on a customer-profile level for usage frequency and expenditure"
   ]
  },
  {
   "cell_type": "code",
   "execution_count": 169,
   "id": "990446d2-8821-47f5-a398-c96e442ccb41",
   "metadata": {},
   "outputs": [
    {
     "name": "stdout",
     "output_type": "stream",
     "text": [
      "Index(['order_id', 'user_id', 'order_number', 'order_day_of_week',\n",
      "       'order_hour_of_day', 'days_since_prior_order', 'product_id',\n",
      "       'add_to_cart_order', 'reordered', 'product_name', 'aisle_id',\n",
      "       'department_id', 'prices', 'first_name', 'surname', 'gender', 'state',\n",
      "       'age', 'date_joined', 'n_dependants', 'fam_status', 'income', 'region',\n",
      "       'spender_flag', 'max_order', 'activity_flag', 'income_group',\n",
      "       'age_group', 'dependants_flag', 'prices_total', 'loyalty_flag',\n",
      "       'department', 'created'],\n",
      "      dtype='object')\n"
     ]
    }
   ],
   "source": [
    "#gpt\n",
    "print(df_final_merged.columns)\n"
   ]
  },
  {
   "cell_type": "code",
   "execution_count": 171,
   "id": "c1361435-1b1c-40d3-b437-6dd9853d1572",
   "metadata": {},
   "outputs": [],
   "source": [
    "#GPT Calculate customer frequency (number of unique orders per user)\n",
    "df_final_merged['customer_frequency'] = df_final_merged.groupby('user_id')['order_number'].transform('nunique')\n",
    "\n"
   ]
  },
  {
   "cell_type": "code",
   "execution_count": 173,
   "id": "81a251d1-429c-45f0-8b30-6002e1c3c9d9",
   "metadata": {},
   "outputs": [
    {
     "name": "stdout",
     "output_type": "stream",
     "text": [
      "   user_id  customer_frequency\n",
      "0        1                  10\n",
      "1        1                  10\n",
      "2        1                  10\n",
      "3        1                  10\n",
      "4        1                  10\n"
     ]
    }
   ],
   "source": [
    "print(df_final_merged[['user_id', 'customer_frequency']].head())\n"
   ]
  },
  {
   "cell_type": "code",
   "execution_count": 175,
   "id": "3fb90187-88cc-442c-a6f5-e3138a58ea3f",
   "metadata": {},
   "outputs": [],
   "source": [
    "#GPT\n",
    "customer_profile = df_final_merged.groupby([\n",
    "    'user_id', 'gender', 'state', 'region', 'n_dependants', 'fam_status', \n",
    "    'age_group', 'order_number', 'order_day_of_week', 'order_hour_of_day', \n",
    "    'loyalty_flag', 'customer_frequency', 'dependants_flag', 'income_group', \n",
    "    'spender_flag'])['prices'].sum().reset_index()\n"
   ]
  },
  {
   "cell_type": "code",
   "execution_count": 177,
   "id": "96361794-7370-4edc-82c6-2b1b2d7a1af0",
   "metadata": {},
   "outputs": [
    {
     "name": "stdout",
     "output_type": "stream",
     "text": [
      "   user_id  gender    state region  n_dependants fam_status age_group  \\\n",
      "0        1  Female  Alabama  South             3    married     adult   \n",
      "1        1  Female  Alabama  South             3    married     adult   \n",
      "2        1  Female  Alabama  South             3    married     adult   \n",
      "3        1  Female  Alabama  South             3    married     adult   \n",
      "4        1  Female  Alabama  South             3    married     adult   \n",
      "\n",
      "   order_number  order_day_of_week  order_hour_of_day loyalty_flag  \\\n",
      "0             1                  2                  8    Non-loyal   \n",
      "1             2                  3                  7    Non-loyal   \n",
      "2             3                  3                 12    Non-loyal   \n",
      "3             4                  4                  7    Non-loyal   \n",
      "4             5                  4                 15    Non-loyal   \n",
      "\n",
      "   customer_frequency dependants_flag income_group  spender_flag  prices  \n",
      "0                  10  has dependants   low-income          True    31.6  \n",
      "1                  10  has dependants   low-income          True    35.4  \n",
      "2                  10  has dependants   low-income          True    28.2  \n",
      "3                  10  has dependants   low-income          True    26.0  \n",
      "4                  10  has dependants   low-income          True    57.0  \n"
     ]
    }
   ],
   "source": [
    "print(customer_profile.head())\n"
   ]
  },
  {
   "cell_type": "code",
   "execution_count": 179,
   "id": "8c68bc9e-4eb0-465b-bbd7-379d4540b2d9",
   "metadata": {},
   "outputs": [
    {
     "ename": "KeyError",
     "evalue": "'orders_day_of_week'",
     "output_type": "error",
     "traceback": [
      "\u001b[0;31m---------------------------------------------------------------------------\u001b[0m",
      "\u001b[0;31mKeyError\u001b[0m                                  Traceback (most recent call last)",
      "Cell \u001b[0;32mIn[179], line 2\u001b[0m\n\u001b[1;32m      1\u001b[0m \u001b[38;5;66;03m# Create a subset of customer profiles and show the total price of each order\u001b[39;00m\n\u001b[0;32m----> 2\u001b[0m customer_profile \u001b[38;5;241m=\u001b[39m df_final_merged\u001b[38;5;241m.\u001b[39mgroupby([\u001b[38;5;124m'\u001b[39m\u001b[38;5;124muser_id\u001b[39m\u001b[38;5;124m'\u001b[39m, \u001b[38;5;124m'\u001b[39m\u001b[38;5;124mgender\u001b[39m\u001b[38;5;124m'\u001b[39m, \u001b[38;5;124m'\u001b[39m\u001b[38;5;124mstate\u001b[39m\u001b[38;5;124m'\u001b[39m, \u001b[38;5;124m'\u001b[39m\u001b[38;5;124mregion\u001b[39m\u001b[38;5;124m'\u001b[39m, \u001b[38;5;124m'\u001b[39m\u001b[38;5;124mn_dependants\u001b[39m\u001b[38;5;124m'\u001b[39m, \u001b[38;5;124m'\u001b[39m\u001b[38;5;124mfam_status\u001b[39m\u001b[38;5;124m'\u001b[39m, \u001b[38;5;124m'\u001b[39m\u001b[38;5;124mage_group\u001b[39m\u001b[38;5;124m'\u001b[39m, \u001b[38;5;124m'\u001b[39m\u001b[38;5;124morder_number\u001b[39m\u001b[38;5;124m'\u001b[39m, \u001b[38;5;124m'\u001b[39m\u001b[38;5;124morders_day_of_week\u001b[39m\u001b[38;5;124m'\u001b[39m, \u001b[38;5;124m'\u001b[39m\u001b[38;5;124morder_hour_of_day\u001b[39m\u001b[38;5;124m'\u001b[39m, \u001b[38;5;124m'\u001b[39m\u001b[38;5;124mloyalty_flag\u001b[39m\u001b[38;5;124m'\u001b[39m, \u001b[38;5;124m'\u001b[39m\u001b[38;5;124mcustomer_frequency\u001b[39m\u001b[38;5;124m'\u001b[39m, \u001b[38;5;124m'\u001b[39m\u001b[38;5;124mdependants_flag\u001b[39m\u001b[38;5;124m'\u001b[39m, \u001b[38;5;124m'\u001b[39m\u001b[38;5;124mincome_group\u001b[39m\u001b[38;5;124m'\u001b[39m, \u001b[38;5;124m'\u001b[39m\u001b[38;5;124mspender_flag\u001b[39m\u001b[38;5;124m'\u001b[39m])[\u001b[38;5;124m'\u001b[39m\u001b[38;5;124mprices\u001b[39m\u001b[38;5;124m'\u001b[39m]\u001b[38;5;241m.\u001b[39msum()\u001b[38;5;241m.\u001b[39mreset_index()\n",
      "File \u001b[0;32m/opt/anaconda3/lib/python3.12/site-packages/pandas/core/frame.py:9183\u001b[0m, in \u001b[0;36mDataFrame.groupby\u001b[0;34m(self, by, axis, level, as_index, sort, group_keys, observed, dropna)\u001b[0m\n\u001b[1;32m   9180\u001b[0m \u001b[38;5;28;01mif\u001b[39;00m level \u001b[38;5;129;01mis\u001b[39;00m \u001b[38;5;28;01mNone\u001b[39;00m \u001b[38;5;129;01mand\u001b[39;00m by \u001b[38;5;129;01mis\u001b[39;00m \u001b[38;5;28;01mNone\u001b[39;00m:\n\u001b[1;32m   9181\u001b[0m     \u001b[38;5;28;01mraise\u001b[39;00m \u001b[38;5;167;01mTypeError\u001b[39;00m(\u001b[38;5;124m\"\u001b[39m\u001b[38;5;124mYou have to supply one of \u001b[39m\u001b[38;5;124m'\u001b[39m\u001b[38;5;124mby\u001b[39m\u001b[38;5;124m'\u001b[39m\u001b[38;5;124m and \u001b[39m\u001b[38;5;124m'\u001b[39m\u001b[38;5;124mlevel\u001b[39m\u001b[38;5;124m'\u001b[39m\u001b[38;5;124m\"\u001b[39m)\n\u001b[0;32m-> 9183\u001b[0m \u001b[38;5;28;01mreturn\u001b[39;00m DataFrameGroupBy(\n\u001b[1;32m   9184\u001b[0m     obj\u001b[38;5;241m=\u001b[39m\u001b[38;5;28mself\u001b[39m,\n\u001b[1;32m   9185\u001b[0m     keys\u001b[38;5;241m=\u001b[39mby,\n\u001b[1;32m   9186\u001b[0m     axis\u001b[38;5;241m=\u001b[39maxis,\n\u001b[1;32m   9187\u001b[0m     level\u001b[38;5;241m=\u001b[39mlevel,\n\u001b[1;32m   9188\u001b[0m     as_index\u001b[38;5;241m=\u001b[39mas_index,\n\u001b[1;32m   9189\u001b[0m     sort\u001b[38;5;241m=\u001b[39msort,\n\u001b[1;32m   9190\u001b[0m     group_keys\u001b[38;5;241m=\u001b[39mgroup_keys,\n\u001b[1;32m   9191\u001b[0m     observed\u001b[38;5;241m=\u001b[39mobserved,\n\u001b[1;32m   9192\u001b[0m     dropna\u001b[38;5;241m=\u001b[39mdropna,\n\u001b[1;32m   9193\u001b[0m )\n",
      "File \u001b[0;32m/opt/anaconda3/lib/python3.12/site-packages/pandas/core/groupby/groupby.py:1329\u001b[0m, in \u001b[0;36mGroupBy.__init__\u001b[0;34m(self, obj, keys, axis, level, grouper, exclusions, selection, as_index, sort, group_keys, observed, dropna)\u001b[0m\n\u001b[1;32m   1326\u001b[0m \u001b[38;5;28mself\u001b[39m\u001b[38;5;241m.\u001b[39mdropna \u001b[38;5;241m=\u001b[39m dropna\n\u001b[1;32m   1328\u001b[0m \u001b[38;5;28;01mif\u001b[39;00m grouper \u001b[38;5;129;01mis\u001b[39;00m \u001b[38;5;28;01mNone\u001b[39;00m:\n\u001b[0;32m-> 1329\u001b[0m     grouper, exclusions, obj \u001b[38;5;241m=\u001b[39m get_grouper(\n\u001b[1;32m   1330\u001b[0m         obj,\n\u001b[1;32m   1331\u001b[0m         keys,\n\u001b[1;32m   1332\u001b[0m         axis\u001b[38;5;241m=\u001b[39maxis,\n\u001b[1;32m   1333\u001b[0m         level\u001b[38;5;241m=\u001b[39mlevel,\n\u001b[1;32m   1334\u001b[0m         sort\u001b[38;5;241m=\u001b[39msort,\n\u001b[1;32m   1335\u001b[0m         observed\u001b[38;5;241m=\u001b[39m\u001b[38;5;28;01mFalse\u001b[39;00m \u001b[38;5;28;01mif\u001b[39;00m observed \u001b[38;5;129;01mis\u001b[39;00m lib\u001b[38;5;241m.\u001b[39mno_default \u001b[38;5;28;01melse\u001b[39;00m observed,\n\u001b[1;32m   1336\u001b[0m         dropna\u001b[38;5;241m=\u001b[39m\u001b[38;5;28mself\u001b[39m\u001b[38;5;241m.\u001b[39mdropna,\n\u001b[1;32m   1337\u001b[0m     )\n\u001b[1;32m   1339\u001b[0m \u001b[38;5;28;01mif\u001b[39;00m observed \u001b[38;5;129;01mis\u001b[39;00m lib\u001b[38;5;241m.\u001b[39mno_default:\n\u001b[1;32m   1340\u001b[0m     \u001b[38;5;28;01mif\u001b[39;00m \u001b[38;5;28many\u001b[39m(ping\u001b[38;5;241m.\u001b[39m_passed_categorical \u001b[38;5;28;01mfor\u001b[39;00m ping \u001b[38;5;129;01min\u001b[39;00m grouper\u001b[38;5;241m.\u001b[39mgroupings):\n",
      "File \u001b[0;32m/opt/anaconda3/lib/python3.12/site-packages/pandas/core/groupby/grouper.py:1043\u001b[0m, in \u001b[0;36mget_grouper\u001b[0;34m(obj, key, axis, level, sort, observed, validate, dropna)\u001b[0m\n\u001b[1;32m   1041\u001b[0m         in_axis, level, gpr \u001b[38;5;241m=\u001b[39m \u001b[38;5;28;01mFalse\u001b[39;00m, gpr, \u001b[38;5;28;01mNone\u001b[39;00m\n\u001b[1;32m   1042\u001b[0m     \u001b[38;5;28;01melse\u001b[39;00m:\n\u001b[0;32m-> 1043\u001b[0m         \u001b[38;5;28;01mraise\u001b[39;00m \u001b[38;5;167;01mKeyError\u001b[39;00m(gpr)\n\u001b[1;32m   1044\u001b[0m \u001b[38;5;28;01melif\u001b[39;00m \u001b[38;5;28misinstance\u001b[39m(gpr, Grouper) \u001b[38;5;129;01mand\u001b[39;00m gpr\u001b[38;5;241m.\u001b[39mkey \u001b[38;5;129;01mis\u001b[39;00m \u001b[38;5;129;01mnot\u001b[39;00m \u001b[38;5;28;01mNone\u001b[39;00m:\n\u001b[1;32m   1045\u001b[0m     \u001b[38;5;66;03m# Add key to exclusions\u001b[39;00m\n\u001b[1;32m   1046\u001b[0m     exclusions\u001b[38;5;241m.\u001b[39madd(gpr\u001b[38;5;241m.\u001b[39mkey)\n",
      "\u001b[0;31mKeyError\u001b[0m: 'orders_day_of_week'"
     ]
    }
   ],
   "source": [
    "# Create a subset of customer profiles and show the total price of each order\n",
    "customer_profile = df_final_merged.groupby(['user_id', 'gender', 'state', 'region', 'n_dependants', 'fam_status', 'age_group', 'order_number', 'orders_day_of_week', 'order_hour_of_day', 'loyalty_flag', 'customer_frequency', 'dependants_flag', 'income_group', 'spender_flag'])['prices'].sum().reset_index()"
   ]
  },
  {
   "cell_type": "code",
   "execution_count": 181,
   "id": "dfb2f79d-40b4-4a0e-b010-c5dcec745071",
   "metadata": {},
   "outputs": [
    {
     "data": {
      "text/html": [
       "<div>\n",
       "<style scoped>\n",
       "    .dataframe tbody tr th:only-of-type {\n",
       "        vertical-align: middle;\n",
       "    }\n",
       "\n",
       "    .dataframe tbody tr th {\n",
       "        vertical-align: top;\n",
       "    }\n",
       "\n",
       "    .dataframe thead th {\n",
       "        text-align: right;\n",
       "    }\n",
       "</style>\n",
       "<table border=\"1\" class=\"dataframe\">\n",
       "  <thead>\n",
       "    <tr style=\"text-align: right;\">\n",
       "      <th></th>\n",
       "      <th>user_id</th>\n",
       "      <th>gender</th>\n",
       "      <th>state</th>\n",
       "      <th>region</th>\n",
       "      <th>n_dependants</th>\n",
       "      <th>fam_status</th>\n",
       "      <th>age_group</th>\n",
       "      <th>order_number</th>\n",
       "      <th>order_day_of_week</th>\n",
       "      <th>order_hour_of_day</th>\n",
       "      <th>loyalty_flag</th>\n",
       "      <th>customer_frequency</th>\n",
       "      <th>dependants_flag</th>\n",
       "      <th>income_group</th>\n",
       "      <th>spender_flag</th>\n",
       "      <th>prices</th>\n",
       "    </tr>\n",
       "  </thead>\n",
       "  <tbody>\n",
       "    <tr>\n",
       "      <th>0</th>\n",
       "      <td>1</td>\n",
       "      <td>Female</td>\n",
       "      <td>Alabama</td>\n",
       "      <td>South</td>\n",
       "      <td>3</td>\n",
       "      <td>married</td>\n",
       "      <td>adult</td>\n",
       "      <td>1</td>\n",
       "      <td>2</td>\n",
       "      <td>8</td>\n",
       "      <td>Non-loyal</td>\n",
       "      <td>10</td>\n",
       "      <td>has dependants</td>\n",
       "      <td>low-income</td>\n",
       "      <td>True</td>\n",
       "      <td>31.6</td>\n",
       "    </tr>\n",
       "    <tr>\n",
       "      <th>1</th>\n",
       "      <td>1</td>\n",
       "      <td>Female</td>\n",
       "      <td>Alabama</td>\n",
       "      <td>South</td>\n",
       "      <td>3</td>\n",
       "      <td>married</td>\n",
       "      <td>adult</td>\n",
       "      <td>2</td>\n",
       "      <td>3</td>\n",
       "      <td>7</td>\n",
       "      <td>Non-loyal</td>\n",
       "      <td>10</td>\n",
       "      <td>has dependants</td>\n",
       "      <td>low-income</td>\n",
       "      <td>True</td>\n",
       "      <td>35.4</td>\n",
       "    </tr>\n",
       "    <tr>\n",
       "      <th>2</th>\n",
       "      <td>1</td>\n",
       "      <td>Female</td>\n",
       "      <td>Alabama</td>\n",
       "      <td>South</td>\n",
       "      <td>3</td>\n",
       "      <td>married</td>\n",
       "      <td>adult</td>\n",
       "      <td>3</td>\n",
       "      <td>3</td>\n",
       "      <td>12</td>\n",
       "      <td>Non-loyal</td>\n",
       "      <td>10</td>\n",
       "      <td>has dependants</td>\n",
       "      <td>low-income</td>\n",
       "      <td>True</td>\n",
       "      <td>28.2</td>\n",
       "    </tr>\n",
       "    <tr>\n",
       "      <th>3</th>\n",
       "      <td>1</td>\n",
       "      <td>Female</td>\n",
       "      <td>Alabama</td>\n",
       "      <td>South</td>\n",
       "      <td>3</td>\n",
       "      <td>married</td>\n",
       "      <td>adult</td>\n",
       "      <td>4</td>\n",
       "      <td>4</td>\n",
       "      <td>7</td>\n",
       "      <td>Non-loyal</td>\n",
       "      <td>10</td>\n",
       "      <td>has dependants</td>\n",
       "      <td>low-income</td>\n",
       "      <td>True</td>\n",
       "      <td>26.0</td>\n",
       "    </tr>\n",
       "    <tr>\n",
       "      <th>4</th>\n",
       "      <td>1</td>\n",
       "      <td>Female</td>\n",
       "      <td>Alabama</td>\n",
       "      <td>South</td>\n",
       "      <td>3</td>\n",
       "      <td>married</td>\n",
       "      <td>adult</td>\n",
       "      <td>5</td>\n",
       "      <td>4</td>\n",
       "      <td>15</td>\n",
       "      <td>Non-loyal</td>\n",
       "      <td>10</td>\n",
       "      <td>has dependants</td>\n",
       "      <td>low-income</td>\n",
       "      <td>True</td>\n",
       "      <td>57.0</td>\n",
       "    </tr>\n",
       "  </tbody>\n",
       "</table>\n",
       "</div>"
      ],
      "text/plain": [
       "   user_id  gender    state region  n_dependants fam_status age_group  \\\n",
       "0        1  Female  Alabama  South             3    married     adult   \n",
       "1        1  Female  Alabama  South             3    married     adult   \n",
       "2        1  Female  Alabama  South             3    married     adult   \n",
       "3        1  Female  Alabama  South             3    married     adult   \n",
       "4        1  Female  Alabama  South             3    married     adult   \n",
       "\n",
       "   order_number  order_day_of_week  order_hour_of_day loyalty_flag  \\\n",
       "0             1                  2                  8    Non-loyal   \n",
       "1             2                  3                  7    Non-loyal   \n",
       "2             3                  3                 12    Non-loyal   \n",
       "3             4                  4                  7    Non-loyal   \n",
       "4             5                  4                 15    Non-loyal   \n",
       "\n",
       "   customer_frequency dependants_flag income_group  spender_flag  prices  \n",
       "0                  10  has dependants   low-income          True    31.6  \n",
       "1                  10  has dependants   low-income          True    35.4  \n",
       "2                  10  has dependants   low-income          True    28.2  \n",
       "3                  10  has dependants   low-income          True    26.0  \n",
       "4                  10  has dependants   low-income          True    57.0  "
      ]
     },
     "execution_count": 181,
     "metadata": {},
     "output_type": "execute_result"
    }
   ],
   "source": [
    "customer_profile.head()"
   ]
  },
  {
   "cell_type": "code",
   "execution_count": 183,
   "id": "00b4af0a-85c7-47f3-afbd-ebefa5ebacaa",
   "metadata": {},
   "outputs": [],
   "source": [
    "# Aggregate variables for customer profiles for expenditure\n",
    "customer_agg = customer_profile.groupby('user_id').agg({'order_number': ['max', 'min', 'mean'], 'prices': ['max', 'min', 'mean']})"
   ]
  },
  {
   "cell_type": "code",
   "execution_count": 185,
   "id": "98112e87-71bd-4614-b463-ffd22039ded0",
   "metadata": {},
   "outputs": [
    {
     "data": {
      "text/html": [
       "<div>\n",
       "<style scoped>\n",
       "    .dataframe tbody tr th:only-of-type {\n",
       "        vertical-align: middle;\n",
       "    }\n",
       "\n",
       "    .dataframe tbody tr th {\n",
       "        vertical-align: top;\n",
       "    }\n",
       "\n",
       "    .dataframe thead tr th {\n",
       "        text-align: left;\n",
       "    }\n",
       "\n",
       "    .dataframe thead tr:last-of-type th {\n",
       "        text-align: right;\n",
       "    }\n",
       "</style>\n",
       "<table border=\"1\" class=\"dataframe\">\n",
       "  <thead>\n",
       "    <tr>\n",
       "      <th></th>\n",
       "      <th colspan=\"3\" halign=\"left\">order_number</th>\n",
       "      <th colspan=\"3\" halign=\"left\">prices</th>\n",
       "    </tr>\n",
       "    <tr>\n",
       "      <th></th>\n",
       "      <th>max</th>\n",
       "      <th>min</th>\n",
       "      <th>mean</th>\n",
       "      <th>max</th>\n",
       "      <th>min</th>\n",
       "      <th>mean</th>\n",
       "    </tr>\n",
       "    <tr>\n",
       "      <th>user_id</th>\n",
       "      <th></th>\n",
       "      <th></th>\n",
       "      <th></th>\n",
       "      <th></th>\n",
       "      <th></th>\n",
       "      <th></th>\n",
       "    </tr>\n",
       "  </thead>\n",
       "  <tbody>\n",
       "    <tr>\n",
       "      <th>1</th>\n",
       "      <td>10</td>\n",
       "      <td>1</td>\n",
       "      <td>5.5</td>\n",
       "      <td>63.1</td>\n",
       "      <td>25.0</td>\n",
       "      <td>37.570000</td>\n",
       "    </tr>\n",
       "    <tr>\n",
       "      <th>2</th>\n",
       "      <td>14</td>\n",
       "      <td>1</td>\n",
       "      <td>7.5</td>\n",
       "      <td>213.1</td>\n",
       "      <td>19.0</td>\n",
       "      <td>104.685714</td>\n",
       "    </tr>\n",
       "    <tr>\n",
       "      <th>3</th>\n",
       "      <td>12</td>\n",
       "      <td>1</td>\n",
       "      <td>6.5</td>\n",
       "      <td>107.2</td>\n",
       "      <td>30.7</td>\n",
       "      <td>60.116667</td>\n",
       "    </tr>\n",
       "    <tr>\n",
       "      <th>4</th>\n",
       "      <td>5</td>\n",
       "      <td>1</td>\n",
       "      <td>3.0</td>\n",
       "      <td>63.4</td>\n",
       "      <td>10.8</td>\n",
       "      <td>29.540000</td>\n",
       "    </tr>\n",
       "    <tr>\n",
       "      <th>7</th>\n",
       "      <td>20</td>\n",
       "      <td>1</td>\n",
       "      <td>10.5</td>\n",
       "      <td>166.7</td>\n",
       "      <td>6.3</td>\n",
       "      <td>76.910000</td>\n",
       "    </tr>\n",
       "    <tr>\n",
       "      <th>...</th>\n",
       "      <td>...</td>\n",
       "      <td>...</td>\n",
       "      <td>...</td>\n",
       "      <td>...</td>\n",
       "      <td>...</td>\n",
       "      <td>...</td>\n",
       "    </tr>\n",
       "    <tr>\n",
       "      <th>206203</th>\n",
       "      <td>5</td>\n",
       "      <td>1</td>\n",
       "      <td>3.0</td>\n",
       "      <td>216.3</td>\n",
       "      <td>126.6</td>\n",
       "      <td>169.900000</td>\n",
       "    </tr>\n",
       "    <tr>\n",
       "      <th>206206</th>\n",
       "      <td>67</td>\n",
       "      <td>1</td>\n",
       "      <td>34.0</td>\n",
       "      <td>157.3</td>\n",
       "      <td>9.6</td>\n",
       "      <td>32.526866</td>\n",
       "    </tr>\n",
       "    <tr>\n",
       "      <th>206207</th>\n",
       "      <td>16</td>\n",
       "      <td>1</td>\n",
       "      <td>8.5</td>\n",
       "      <td>200.8</td>\n",
       "      <td>42.8</td>\n",
       "      <td>101.931250</td>\n",
       "    </tr>\n",
       "    <tr>\n",
       "      <th>206208</th>\n",
       "      <td>49</td>\n",
       "      <td>1</td>\n",
       "      <td>25.0</td>\n",
       "      <td>238.5</td>\n",
       "      <td>38.7</td>\n",
       "      <td>115.595918</td>\n",
       "    </tr>\n",
       "    <tr>\n",
       "      <th>206209</th>\n",
       "      <td>13</td>\n",
       "      <td>1</td>\n",
       "      <td>7.0</td>\n",
       "      <td>131.5</td>\n",
       "      <td>11.1</td>\n",
       "      <td>70.046154</td>\n",
       "    </tr>\n",
       "  </tbody>\n",
       "</table>\n",
       "<p>156297 rows × 6 columns</p>\n",
       "</div>"
      ],
      "text/plain": [
       "        order_number           prices                   \n",
       "                 max min  mean    max    min        mean\n",
       "user_id                                                 \n",
       "1                 10   1   5.5   63.1   25.0   37.570000\n",
       "2                 14   1   7.5  213.1   19.0  104.685714\n",
       "3                 12   1   6.5  107.2   30.7   60.116667\n",
       "4                  5   1   3.0   63.4   10.8   29.540000\n",
       "7                 20   1  10.5  166.7    6.3   76.910000\n",
       "...              ...  ..   ...    ...    ...         ...\n",
       "206203             5   1   3.0  216.3  126.6  169.900000\n",
       "206206            67   1  34.0  157.3    9.6   32.526866\n",
       "206207            16   1   8.5  200.8   42.8  101.931250\n",
       "206208            49   1  25.0  238.5   38.7  115.595918\n",
       "206209            13   1   7.0  131.5   11.1   70.046154\n",
       "\n",
       "[156297 rows x 6 columns]"
      ]
     },
     "execution_count": 185,
     "metadata": {},
     "output_type": "execute_result"
    }
   ],
   "source": [
    "customer_agg"
   ]
  },
  {
   "cell_type": "code",
   "execution_count": 187,
   "id": "bbfc3ad2-857c-4fd4-8d13-c8c24cbe4f06",
   "metadata": {},
   "outputs": [],
   "source": [
    "# Aggregate variables for customer profiles for usage frequency\n",
    "freq_agg = df_excluded.groupby('user_id').agg({'order_number': ['max', 'min', 'mean'], 'days_since_prior_order': ['max', 'min', 'mean']})"
   ]
  },
  {
   "cell_type": "code",
   "execution_count": 189,
   "id": "2e137529-9ad1-44ee-b074-b1ae3372717b",
   "metadata": {},
   "outputs": [
    {
     "data": {
      "text/html": [
       "<div>\n",
       "<style scoped>\n",
       "    .dataframe tbody tr th:only-of-type {\n",
       "        vertical-align: middle;\n",
       "    }\n",
       "\n",
       "    .dataframe tbody tr th {\n",
       "        vertical-align: top;\n",
       "    }\n",
       "\n",
       "    .dataframe thead tr th {\n",
       "        text-align: left;\n",
       "    }\n",
       "\n",
       "    .dataframe thead tr:last-of-type th {\n",
       "        text-align: right;\n",
       "    }\n",
       "</style>\n",
       "<table border=\"1\" class=\"dataframe\">\n",
       "  <thead>\n",
       "    <tr>\n",
       "      <th></th>\n",
       "      <th colspan=\"3\" halign=\"left\">order_number</th>\n",
       "      <th colspan=\"3\" halign=\"left\">days_since_prior_order</th>\n",
       "    </tr>\n",
       "    <tr>\n",
       "      <th></th>\n",
       "      <th>max</th>\n",
       "      <th>min</th>\n",
       "      <th>mean</th>\n",
       "      <th>max</th>\n",
       "      <th>min</th>\n",
       "      <th>mean</th>\n",
       "    </tr>\n",
       "    <tr>\n",
       "      <th>user_id</th>\n",
       "      <th></th>\n",
       "      <th></th>\n",
       "      <th></th>\n",
       "      <th></th>\n",
       "      <th></th>\n",
       "      <th></th>\n",
       "    </tr>\n",
       "  </thead>\n",
       "  <tbody>\n",
       "    <tr>\n",
       "      <th>1</th>\n",
       "      <td>10</td>\n",
       "      <td>1</td>\n",
       "      <td>5.813559</td>\n",
       "      <td>30.0</td>\n",
       "      <td>0.0</td>\n",
       "      <td>19.135593</td>\n",
       "    </tr>\n",
       "    <tr>\n",
       "      <th>2</th>\n",
       "      <td>14</td>\n",
       "      <td>1</td>\n",
       "      <td>8.035897</td>\n",
       "      <td>30.0</td>\n",
       "      <td>3.0</td>\n",
       "      <td>15.369231</td>\n",
       "    </tr>\n",
       "    <tr>\n",
       "      <th>3</th>\n",
       "      <td>12</td>\n",
       "      <td>1</td>\n",
       "      <td>6.000000</td>\n",
       "      <td>21.0</td>\n",
       "      <td>7.0</td>\n",
       "      <td>10.977273</td>\n",
       "    </tr>\n",
       "    <tr>\n",
       "      <th>4</th>\n",
       "      <td>5</td>\n",
       "      <td>1</td>\n",
       "      <td>2.888889</td>\n",
       "      <td>21.0</td>\n",
       "      <td>0.0</td>\n",
       "      <td>13.500000</td>\n",
       "    </tr>\n",
       "    <tr>\n",
       "      <th>7</th>\n",
       "      <td>20</td>\n",
       "      <td>1</td>\n",
       "      <td>9.645631</td>\n",
       "      <td>30.0</td>\n",
       "      <td>2.0</td>\n",
       "      <td>13.165049</td>\n",
       "    </tr>\n",
       "    <tr>\n",
       "      <th>...</th>\n",
       "      <td>...</td>\n",
       "      <td>...</td>\n",
       "      <td>...</td>\n",
       "      <td>...</td>\n",
       "      <td>...</td>\n",
       "      <td>...</td>\n",
       "    </tr>\n",
       "    <tr>\n",
       "      <th>206203</th>\n",
       "      <td>5</td>\n",
       "      <td>1</td>\n",
       "      <td>2.983193</td>\n",
       "      <td>30.0</td>\n",
       "      <td>7.0</td>\n",
       "      <td>25.016807</td>\n",
       "    </tr>\n",
       "    <tr>\n",
       "      <th>206206</th>\n",
       "      <td>67</td>\n",
       "      <td>1</td>\n",
       "      <td>38.007018</td>\n",
       "      <td>15.0</td>\n",
       "      <td>0.0</td>\n",
       "      <td>4.084211</td>\n",
       "    </tr>\n",
       "    <tr>\n",
       "      <th>206207</th>\n",
       "      <td>16</td>\n",
       "      <td>1</td>\n",
       "      <td>8.116592</td>\n",
       "      <td>30.0</td>\n",
       "      <td>1.0</td>\n",
       "      <td>14.031390</td>\n",
       "    </tr>\n",
       "    <tr>\n",
       "      <th>206208</th>\n",
       "      <td>49</td>\n",
       "      <td>1</td>\n",
       "      <td>25.505170</td>\n",
       "      <td>20.0</td>\n",
       "      <td>0.0</td>\n",
       "      <td>7.434269</td>\n",
       "    </tr>\n",
       "    <tr>\n",
       "      <th>206209</th>\n",
       "      <td>13</td>\n",
       "      <td>1</td>\n",
       "      <td>6.937984</td>\n",
       "      <td>30.0</td>\n",
       "      <td>3.0</td>\n",
       "      <td>18.937984</td>\n",
       "    </tr>\n",
       "  </tbody>\n",
       "</table>\n",
       "<p>162627 rows × 6 columns</p>\n",
       "</div>"
      ],
      "text/plain": [
       "        order_number                days_since_prior_order                \n",
       "                 max min       mean                    max  min       mean\n",
       "user_id                                                                   \n",
       "1                 10   1   5.813559                   30.0  0.0  19.135593\n",
       "2                 14   1   8.035897                   30.0  3.0  15.369231\n",
       "3                 12   1   6.000000                   21.0  7.0  10.977273\n",
       "4                  5   1   2.888889                   21.0  0.0  13.500000\n",
       "7                 20   1   9.645631                   30.0  2.0  13.165049\n",
       "...              ...  ..        ...                    ...  ...        ...\n",
       "206203             5   1   2.983193                   30.0  7.0  25.016807\n",
       "206206            67   1  38.007018                   15.0  0.0   4.084211\n",
       "206207            16   1   8.116592                   30.0  1.0  14.031390\n",
       "206208            49   1  25.505170                   20.0  0.0   7.434269\n",
       "206209            13   1   6.937984                   30.0  3.0  18.937984\n",
       "\n",
       "[162627 rows x 6 columns]"
      ]
     },
     "execution_count": 189,
     "metadata": {},
     "output_type": "execute_result"
    }
   ],
   "source": [
    "freq_agg"
   ]
  },
  {
   "cell_type": "markdown",
   "id": "bbfae0f3-967a-4e3f-84da-dc08fef33121",
   "metadata": {},
   "source": [
    "# 8. Compare customer profiles with regions and departments"
   ]
  },
  {
   "cell_type": "markdown",
   "id": "0aab1639-1a51-4a28-9963-d9071e262ee5",
   "metadata": {},
   "source": [
    "## Region vs Departmant"
   ]
  },
  {
   "cell_type": "code",
   "execution_count": 193,
   "id": "ec9e2c44-e301-46b2-8853-2914a8db0676",
   "metadata": {},
   "outputs": [
    {
     "data": {
      "text/html": [
       "<div>\n",
       "<style scoped>\n",
       "    .dataframe tbody tr th:only-of-type {\n",
       "        vertical-align: middle;\n",
       "    }\n",
       "\n",
       "    .dataframe tbody tr th {\n",
       "        vertical-align: top;\n",
       "    }\n",
       "\n",
       "    .dataframe thead th {\n",
       "        text-align: right;\n",
       "    }\n",
       "</style>\n",
       "<table border=\"1\" class=\"dataframe\">\n",
       "  <thead>\n",
       "    <tr style=\"text-align: right;\">\n",
       "      <th>department</th>\n",
       "      <th>alcohol</th>\n",
       "      <th>babies</th>\n",
       "      <th>bakery</th>\n",
       "      <th>beverages</th>\n",
       "      <th>breakfast</th>\n",
       "      <th>bulk</th>\n",
       "      <th>canned goods</th>\n",
       "      <th>dairy eggs</th>\n",
       "      <th>deli</th>\n",
       "      <th>dry goods pasta</th>\n",
       "      <th>...</th>\n",
       "      <th>household</th>\n",
       "      <th>international</th>\n",
       "      <th>meat seafood</th>\n",
       "      <th>missing</th>\n",
       "      <th>other</th>\n",
       "      <th>pantry</th>\n",
       "      <th>personal care</th>\n",
       "      <th>pets</th>\n",
       "      <th>produce</th>\n",
       "      <th>snacks</th>\n",
       "    </tr>\n",
       "    <tr>\n",
       "      <th>region</th>\n",
       "      <th></th>\n",
       "      <th></th>\n",
       "      <th></th>\n",
       "      <th></th>\n",
       "      <th></th>\n",
       "      <th></th>\n",
       "      <th></th>\n",
       "      <th></th>\n",
       "      <th></th>\n",
       "      <th></th>\n",
       "      <th></th>\n",
       "      <th></th>\n",
       "      <th></th>\n",
       "      <th></th>\n",
       "      <th></th>\n",
       "      <th></th>\n",
       "      <th></th>\n",
       "      <th></th>\n",
       "      <th></th>\n",
       "      <th></th>\n",
       "      <th></th>\n",
       "    </tr>\n",
       "  </thead>\n",
       "  <tbody>\n",
       "    <tr>\n",
       "      <th>Midwest</th>\n",
       "      <td>34043</td>\n",
       "      <td>95741</td>\n",
       "      <td>261751</td>\n",
       "      <td>598977</td>\n",
       "      <td>156155</td>\n",
       "      <td>7929</td>\n",
       "      <td>237459</td>\n",
       "      <td>1212489</td>\n",
       "      <td>234464</td>\n",
       "      <td>193463</td>\n",
       "      <td>...</td>\n",
       "      <td>166991</td>\n",
       "      <td>60666</td>\n",
       "      <td>158260</td>\n",
       "      <td>15563</td>\n",
       "      <td>7983</td>\n",
       "      <td>420334</td>\n",
       "      <td>100398</td>\n",
       "      <td>21358</td>\n",
       "      <td>2134111</td>\n",
       "      <td>645143</td>\n",
       "    </tr>\n",
       "    <tr>\n",
       "      <th>Northeast</th>\n",
       "      <td>20120</td>\n",
       "      <td>56870</td>\n",
       "      <td>155882</td>\n",
       "      <td>364615</td>\n",
       "      <td>92420</td>\n",
       "      <td>4471</td>\n",
       "      <td>137738</td>\n",
       "      <td>711976</td>\n",
       "      <td>139808</td>\n",
       "      <td>111939</td>\n",
       "      <td>...</td>\n",
       "      <td>96809</td>\n",
       "      <td>35265</td>\n",
       "      <td>91595</td>\n",
       "      <td>8970</td>\n",
       "      <td>4925</td>\n",
       "      <td>244582</td>\n",
       "      <td>58664</td>\n",
       "      <td>13150</td>\n",
       "      <td>1239418</td>\n",
       "      <td>384202</td>\n",
       "    </tr>\n",
       "    <tr>\n",
       "      <th>South</th>\n",
       "      <td>48812</td>\n",
       "      <td>139509</td>\n",
       "      <td>371618</td>\n",
       "      <td>859417</td>\n",
       "      <td>223170</td>\n",
       "      <td>11180</td>\n",
       "      <td>337456</td>\n",
       "      <td>1723015</td>\n",
       "      <td>333617</td>\n",
       "      <td>272813</td>\n",
       "      <td>...</td>\n",
       "      <td>230059</td>\n",
       "      <td>84649</td>\n",
       "      <td>224120</td>\n",
       "      <td>21787</td>\n",
       "      <td>11579</td>\n",
       "      <td>591754</td>\n",
       "      <td>142493</td>\n",
       "      <td>29909</td>\n",
       "      <td>3027474</td>\n",
       "      <td>916776</td>\n",
       "    </tr>\n",
       "    <tr>\n",
       "      <th>West</th>\n",
       "      <td>36754</td>\n",
       "      <td>102428</td>\n",
       "      <td>288155</td>\n",
       "      <td>650574</td>\n",
       "      <td>173619</td>\n",
       "      <td>8743</td>\n",
       "      <td>260221</td>\n",
       "      <td>1327060</td>\n",
       "      <td>257352</td>\n",
       "      <td>212043</td>\n",
       "      <td>...</td>\n",
       "      <td>178200</td>\n",
       "      <td>65998</td>\n",
       "      <td>173830</td>\n",
       "      <td>15906</td>\n",
       "      <td>8581</td>\n",
       "      <td>457886</td>\n",
       "      <td>106647</td>\n",
       "      <td>24059</td>\n",
       "      <td>2324678</td>\n",
       "      <td>711329</td>\n",
       "    </tr>\n",
       "    <tr>\n",
       "      <th>NaN</th>\n",
       "      <td>4897</td>\n",
       "      <td>15840</td>\n",
       "      <td>43418</td>\n",
       "      <td>98314</td>\n",
       "      <td>25484</td>\n",
       "      <td>1128</td>\n",
       "      <td>39198</td>\n",
       "      <td>202640</td>\n",
       "      <td>38590</td>\n",
       "      <td>31878</td>\n",
       "      <td>...</td>\n",
       "      <td>27794</td>\n",
       "      <td>9413</td>\n",
       "      <td>26976</td>\n",
       "      <td>2542</td>\n",
       "      <td>1342</td>\n",
       "      <td>68149</td>\n",
       "      <td>16101</td>\n",
       "      <td>4584</td>\n",
       "      <td>353586</td>\n",
       "      <td>108952</td>\n",
       "    </tr>\n",
       "  </tbody>\n",
       "</table>\n",
       "<p>5 rows × 21 columns</p>\n",
       "</div>"
      ],
      "text/plain": [
       "department  alcohol  babies  bakery  beverages  breakfast   bulk  \\\n",
       "region                                                             \n",
       "Midwest       34043   95741  261751     598977     156155   7929   \n",
       "Northeast     20120   56870  155882     364615      92420   4471   \n",
       "South         48812  139509  371618     859417     223170  11180   \n",
       "West          36754  102428  288155     650574     173619   8743   \n",
       "NaN            4897   15840   43418      98314      25484   1128   \n",
       "\n",
       "department  canned goods  dairy eggs    deli  dry goods pasta  ...  household  \\\n",
       "region                                                         ...              \n",
       "Midwest           237459     1212489  234464           193463  ...     166991   \n",
       "Northeast         137738      711976  139808           111939  ...      96809   \n",
       "South             337456     1723015  333617           272813  ...     230059   \n",
       "West              260221     1327060  257352           212043  ...     178200   \n",
       "NaN                39198      202640   38590            31878  ...      27794   \n",
       "\n",
       "department  international  meat seafood  missing  other  pantry  \\\n",
       "region                                                            \n",
       "Midwest             60666        158260    15563   7983  420334   \n",
       "Northeast           35265         91595     8970   4925  244582   \n",
       "South               84649        224120    21787  11579  591754   \n",
       "West                65998        173830    15906   8581  457886   \n",
       "NaN                  9413         26976     2542   1342   68149   \n",
       "\n",
       "department  personal care   pets  produce  snacks  \n",
       "region                                             \n",
       "Midwest            100398  21358  2134111  645143  \n",
       "Northeast           58664  13150  1239418  384202  \n",
       "South              142493  29909  3027474  916776  \n",
       "West               106647  24059  2324678  711329  \n",
       "NaN                 16101   4584   353586  108952  \n",
       "\n",
       "[5 rows x 21 columns]"
      ]
     },
     "execution_count": 193,
     "metadata": {},
     "output_type": "execute_result"
    }
   ],
   "source": [
    "# crosstab age group vs department\n",
    "region_dept_cross = pd.crosstab(df_final_merged['region'], df_final_merged['department'], dropna = False)\n",
    "region_dept_cross"
   ]
  },
  {
   "cell_type": "code",
   "execution_count": 195,
   "id": "a5aba93a-f9c6-4918-835f-0a359b3683e7",
   "metadata": {},
   "outputs": [
    {
     "data": {
      "text/plain": [
       "<matplotlib.legend.Legend at 0x130e9e300>"
      ]
     },
     "execution_count": 195,
     "metadata": {},
     "output_type": "execute_result"
    },
    {
     "data": {
      "image/png": "[encoded data removed]",
      "text/plain": [
       "<Figure size 1400x1000 with 1 Axes>"
      ]
     },
     "metadata": {},
     "output_type": "display_data"
    }
   ],
   "source": [
    "# bar chart\n",
    "region_dept_bar = region_dept_cross.plot(kind = 'barh', figsize=(14,10))\n",
    "plt.title('Department Sales by Region')\n",
    "plt.xlabel('products count')\n",
    "plt.ylabel('region')\n",
    "# Move legend outside of plot\n",
    "plt.legend(title='Department', bbox_to_anchor=(1.05, 1), loc='upper left', fontsize=12, title_fontsize=14)"
   ]
  },
  {
   "cell_type": "code",
   "execution_count": 197,
   "id": "dc9678fd-1113-4314-9e77-97d3047b3b06",
   "metadata": {},
   "outputs": [],
   "source": [
    "# Export bar chart\n",
    "region_dept_bar.figure.savefig(os.path.join(path, '04 Analysis','Visualizations', 'region_depts_bar.png'))"
   ]
  },
  {
   "cell_type": "code",
   "execution_count": 199,
   "id": "ed1a27ae-fc11-426f-bfd1-d3e55b1c7b12",
   "metadata": {},
   "outputs": [],
   "source": [
    "# import orders_products_customers\n",
    "df = pd.read_pickle(os.path.join(path, '02 Data', 'Prepared Data', 'orders_products_customers_departments.pkl'))"
   ]
  },
  {
   "cell_type": "code",
   "execution_count": 203,
   "id": "5382600c-a6bb-4406-8536-143c18944067",
   "metadata": {},
   "outputs": [
    {
     "data": {
      "image/png": "[encoded data removed]",
      "text/plain": [
       "<Figure size 640x480 with 1 Axes>"
      ]
     },
     "metadata": {},
     "output_type": "display_data"
    }
   ],
   "source": [
    "#GPT Bar chart for orders by day of week\n",
    "orders_dow_bar = df['order_day_of_week'].value_counts().sort_index().plot.bar(color='blue')\n",
    "orders_dow_bar.set_title('Orders by Day of Week')\n",
    "orders_dow_bar.set_xticklabels(['Saturday', 'Sunday', 'Monday', 'Tuesday', 'Wednesday', 'Thursday', 'Friday'], rotation=0)\n",
    "plt.show()\n"
   ]
  },
  {
   "cell_type": "code",
   "execution_count": 201,
   "id": "427a766b-2d2f-44e2-8bd8-056966ba72c6",
   "metadata": {},
   "outputs": [
    {
     "ename": "KeyError",
     "evalue": "'orders_day_of_week'",
     "output_type": "error",
     "traceback": [
      "\u001b[0;31m---------------------------------------------------------------------------\u001b[0m",
      "\u001b[0;31mKeyError\u001b[0m                                  Traceback (most recent call last)",
      "File \u001b[0;32m/opt/anaconda3/lib/python3.12/site-packages/pandas/core/indexes/base.py:3805\u001b[0m, in \u001b[0;36mIndex.get_loc\u001b[0;34m(self, key)\u001b[0m\n\u001b[1;32m   3804\u001b[0m \u001b[38;5;28;01mtry\u001b[39;00m:\n\u001b[0;32m-> 3805\u001b[0m     \u001b[38;5;28;01mreturn\u001b[39;00m \u001b[38;5;28mself\u001b[39m\u001b[38;5;241m.\u001b[39m_engine\u001b[38;5;241m.\u001b[39mget_loc(casted_key)\n\u001b[1;32m   3806\u001b[0m \u001b[38;5;28;01mexcept\u001b[39;00m \u001b[38;5;167;01mKeyError\u001b[39;00m \u001b[38;5;28;01mas\u001b[39;00m err:\n",
      "File \u001b[0;32mindex.pyx:167\u001b[0m, in \u001b[0;36mpandas._libs.index.IndexEngine.get_loc\u001b[0;34m()\u001b[0m\n",
      "File \u001b[0;32mindex.pyx:196\u001b[0m, in \u001b[0;36mpandas._libs.index.IndexEngine.get_loc\u001b[0;34m()\u001b[0m\n",
      "File \u001b[0;32mpandas/_libs/hashtable_class_helper.pxi:7081\u001b[0m, in \u001b[0;36mpandas._libs.hashtable.PyObjectHashTable.get_item\u001b[0;34m()\u001b[0m\n",
      "File \u001b[0;32mpandas/_libs/hashtable_class_helper.pxi:7089\u001b[0m, in \u001b[0;36mpandas._libs.hashtable.PyObjectHashTable.get_item\u001b[0;34m()\u001b[0m\n",
      "\u001b[0;31mKeyError\u001b[0m: 'orders_day_of_week'",
      "\nThe above exception was the direct cause of the following exception:\n",
      "\u001b[0;31mKeyError\u001b[0m                                  Traceback (most recent call last)",
      "Cell \u001b[0;32mIn[201], line 2\u001b[0m\n\u001b[1;32m      1\u001b[0m \u001b[38;5;66;03m# bar chart orders by day of week\u001b[39;00m\n\u001b[0;32m----> 2\u001b[0m orders_dow_bar \u001b[38;5;241m=\u001b[39m df[\u001b[38;5;124m'\u001b[39m\u001b[38;5;124morders_day_of_week\u001b[39m\u001b[38;5;124m'\u001b[39m]\u001b[38;5;241m.\u001b[39mvalue_counts()\u001b[38;5;241m.\u001b[39msort_index()\u001b[38;5;241m.\u001b[39mplot\u001b[38;5;241m.\u001b[39mbar(color \u001b[38;5;241m=\u001b[39m \u001b[38;5;124m'\u001b[39m\u001b[38;5;124mblue\u001b[39m\u001b[38;5;124m'\u001b[39m)\n\u001b[1;32m      3\u001b[0m orders_dow_bar\u001b[38;5;241m.\u001b[39mset_title(\u001b[38;5;124m'\u001b[39m\u001b[38;5;124mOrders by Day of Week\u001b[39m\u001b[38;5;124m'\u001b[39m)\n\u001b[1;32m      4\u001b[0m orders_dow_bar\u001b[38;5;241m.\u001b[39mset_xticklabels([\u001b[38;5;124m'\u001b[39m\u001b[38;5;124mSaturday\u001b[39m\u001b[38;5;124m'\u001b[39m, \u001b[38;5;124m'\u001b[39m\u001b[38;5;124mSunday\u001b[39m\u001b[38;5;124m'\u001b[39m, \u001b[38;5;124m'\u001b[39m\u001b[38;5;124mMonday\u001b[39m\u001b[38;5;124m'\u001b[39m, \u001b[38;5;124m'\u001b[39m\u001b[38;5;124mTuesday\u001b[39m\u001b[38;5;124m'\u001b[39m, \u001b[38;5;124m'\u001b[39m\u001b[38;5;124mWednesday\u001b[39m\u001b[38;5;124m'\u001b[39m, \u001b[38;5;124m'\u001b[39m\u001b[38;5;124mThursday\u001b[39m\u001b[38;5;124m'\u001b[39m, \u001b[38;5;124m'\u001b[39m\u001b[38;5;124mFriday\u001b[39m\u001b[38;5;124m'\u001b[39m], rotation\u001b[38;5;241m=\u001b[39m\u001b[38;5;241m0\u001b[39m)\n",
      "File \u001b[0;32m/opt/anaconda3/lib/python3.12/site-packages/pandas/core/frame.py:4102\u001b[0m, in \u001b[0;36mDataFrame.__getitem__\u001b[0;34m(self, key)\u001b[0m\n\u001b[1;32m   4100\u001b[0m \u001b[38;5;28;01mif\u001b[39;00m \u001b[38;5;28mself\u001b[39m\u001b[38;5;241m.\u001b[39mcolumns\u001b[38;5;241m.\u001b[39mnlevels \u001b[38;5;241m>\u001b[39m \u001b[38;5;241m1\u001b[39m:\n\u001b[1;32m   4101\u001b[0m     \u001b[38;5;28;01mreturn\u001b[39;00m \u001b[38;5;28mself\u001b[39m\u001b[38;5;241m.\u001b[39m_getitem_multilevel(key)\n\u001b[0;32m-> 4102\u001b[0m indexer \u001b[38;5;241m=\u001b[39m \u001b[38;5;28mself\u001b[39m\u001b[38;5;241m.\u001b[39mcolumns\u001b[38;5;241m.\u001b[39mget_loc(key)\n\u001b[1;32m   4103\u001b[0m \u001b[38;5;28;01mif\u001b[39;00m is_integer(indexer):\n\u001b[1;32m   4104\u001b[0m     indexer \u001b[38;5;241m=\u001b[39m [indexer]\n",
      "File \u001b[0;32m/opt/anaconda3/lib/python3.12/site-packages/pandas/core/indexes/base.py:3812\u001b[0m, in \u001b[0;36mIndex.get_loc\u001b[0;34m(self, key)\u001b[0m\n\u001b[1;32m   3807\u001b[0m     \u001b[38;5;28;01mif\u001b[39;00m \u001b[38;5;28misinstance\u001b[39m(casted_key, \u001b[38;5;28mslice\u001b[39m) \u001b[38;5;129;01mor\u001b[39;00m (\n\u001b[1;32m   3808\u001b[0m         \u001b[38;5;28misinstance\u001b[39m(casted_key, abc\u001b[38;5;241m.\u001b[39mIterable)\n\u001b[1;32m   3809\u001b[0m         \u001b[38;5;129;01mand\u001b[39;00m \u001b[38;5;28many\u001b[39m(\u001b[38;5;28misinstance\u001b[39m(x, \u001b[38;5;28mslice\u001b[39m) \u001b[38;5;28;01mfor\u001b[39;00m x \u001b[38;5;129;01min\u001b[39;00m casted_key)\n\u001b[1;32m   3810\u001b[0m     ):\n\u001b[1;32m   3811\u001b[0m         \u001b[38;5;28;01mraise\u001b[39;00m InvalidIndexError(key)\n\u001b[0;32m-> 3812\u001b[0m     \u001b[38;5;28;01mraise\u001b[39;00m \u001b[38;5;167;01mKeyError\u001b[39;00m(key) \u001b[38;5;28;01mfrom\u001b[39;00m \u001b[38;5;21;01merr\u001b[39;00m\n\u001b[1;32m   3813\u001b[0m \u001b[38;5;28;01mexcept\u001b[39;00m \u001b[38;5;167;01mTypeError\u001b[39;00m:\n\u001b[1;32m   3814\u001b[0m     \u001b[38;5;66;03m# If we have a listlike key, _check_indexing_error will raise\u001b[39;00m\n\u001b[1;32m   3815\u001b[0m     \u001b[38;5;66;03m#  InvalidIndexError. Otherwise we fall through and re-raise\u001b[39;00m\n\u001b[1;32m   3816\u001b[0m     \u001b[38;5;66;03m#  the TypeError.\u001b[39;00m\n\u001b[1;32m   3817\u001b[0m     \u001b[38;5;28mself\u001b[39m\u001b[38;5;241m.\u001b[39m_check_indexing_error(key)\n",
      "\u001b[0;31mKeyError\u001b[0m: 'orders_day_of_week'"
     ]
    }
   ],
   "source": [
    "# bar chart orders by day of week\n",
    "orders_dow_bar = df['orders_day_of_week'].value_counts().sort_index().plot.bar(color = 'blue')\n",
    "orders_dow_bar.set_title('Orders by Day of Week')\n",
    "orders_dow_bar.set_xticklabels(['Saturday', 'Sunday', 'Monday', 'Tuesday', 'Wednesday', 'Thursday', 'Friday'], rotation=0)\n",
    "orders_dow_bar.set_xlabel(\"\")"
   ]
  },
  {
   "cell_type": "code",
   "execution_count": 205,
   "id": "2323d0cc-8168-43e0-bd30-c81bae14d7ff",
   "metadata": {},
   "outputs": [],
   "source": [
    "# Export bar chart\n",
    "orders_dow_bar.figure.savefig(os.path.join(path, '04 Analysis','Visualizations', 'orders_dow_bar.png'))"
   ]
  },
  {
   "cell_type": "code",
   "execution_count": 207,
   "id": "f260485d-c978-4ebf-b1fe-8a3117e31ea5",
   "metadata": {},
   "outputs": [
    {
     "data": {
      "text/plain": [
       "Text(0.5, 0, 'Hour of Day (24 hr clock)')"
      ]
     },
     "execution_count": 207,
     "metadata": {},
     "output_type": "execute_result"
    },
    {
     "data": {
      "image/png": "[encoded data removed]",
      "text/plain": [
       "<Figure size 640x480 with 1 Axes>"
      ]
     },
     "metadata": {},
     "output_type": "display_data"
    }
   ],
   "source": [
    "# histogram of hours of the day\n",
    "hod_hist=df['order_hour_of_day'].plot.hist(bins = 24)\n",
    "plt.title('Orders by Hour of Day')\n",
    "plt.xlabel('Hour of Day (24 hr clock)')"
   ]
  },
  {
   "cell_type": "code",
   "execution_count": 209,
   "id": "92e40f98-8886-4e5d-b8df-9d86acd61bd0",
   "metadata": {},
   "outputs": [],
   "source": [
    "# Export histogram\n",
    "hod_hist.figure.savefig(os.path.join(path, '04 Analysis','Visualizations', 'hod_hist.png'))"
   ]
  },
  {
   "cell_type": "code",
   "execution_count": 211,
   "id": "5dabaae1-9a0c-46ab-9880-9acc998aa02c",
   "metadata": {},
   "outputs": [
    {
     "data": {
      "text/html": [
       "<div>\n",
       "<style scoped>\n",
       "    .dataframe tbody tr th:only-of-type {\n",
       "        vertical-align: middle;\n",
       "    }\n",
       "\n",
       "    .dataframe tbody tr th {\n",
       "        vertical-align: top;\n",
       "    }\n",
       "\n",
       "    .dataframe thead th {\n",
       "        text-align: right;\n",
       "    }\n",
       "</style>\n",
       "<table border=\"1\" class=\"dataframe\">\n",
       "  <thead>\n",
       "    <tr style=\"text-align: right;\">\n",
       "      <th>income_group</th>\n",
       "      <th>high-income</th>\n",
       "      <th>low-income</th>\n",
       "      <th>middle-income</th>\n",
       "    </tr>\n",
       "    <tr>\n",
       "      <th>loyalty_flag</th>\n",
       "      <th></th>\n",
       "      <th></th>\n",
       "      <th></th>\n",
       "    </tr>\n",
       "  </thead>\n",
       "  <tbody>\n",
       "    <tr>\n",
       "      <th>Loyal</th>\n",
       "      <td>3293278</td>\n",
       "      <td>3067060</td>\n",
       "      <td>18782244</td>\n",
       "    </tr>\n",
       "    <tr>\n",
       "      <th>Non-loyal</th>\n",
       "      <td>601231</td>\n",
       "      <td>1385318</td>\n",
       "      <td>3835387</td>\n",
       "    </tr>\n",
       "  </tbody>\n",
       "</table>\n",
       "</div>"
      ],
      "text/plain": [
       "income_group  high-income  low-income  middle-income\n",
       "loyalty_flag                                        \n",
       "Loyal             3293278     3067060       18782244\n",
       "Non-loyal          601231     1385318        3835387"
      ]
     },
     "execution_count": 211,
     "metadata": {},
     "output_type": "execute_result"
    }
   ],
   "source": [
    "# Crosstab loyalty with age group\n",
    "loyalty_income_cross = pd.crosstab(df['loyalty_flag'], df['income_group'], dropna = False)\n",
    "loyalty_income_cross"
   ]
  },
  {
   "cell_type": "code",
   "execution_count": 213,
   "id": "d5fcaf43-6b2e-4f7f-8673-f45f72a64e53",
   "metadata": {},
   "outputs": [
    {
     "data": {
      "text/plain": [
       "(array([0, 1]), [Text(0, 0, 'Loyal'), Text(1, 0, 'Non-loyal')])"
      ]
     },
     "execution_count": 213,
     "metadata": {},
     "output_type": "execute_result"
    },
    {
     "data": {
      "image/png": "[encoded data removed]",
      "text/plain": [
       "<Figure size 640x480 with 1 Axes>"
      ]
     },
     "metadata": {},
     "output_type": "display_data"
    }
   ],
   "source": [
    "# bar chart\n",
    "loyalty_income_bar = loyalty_income_cross.plot.bar()\n",
    "plt.title('Loyalty by Income Group')\n",
    "plt.xlabel('')\n",
    "plt.ylabel('count')\n",
    "plt.xticks(rotation=0)"
   ]
  },
  {
   "cell_type": "code",
   "execution_count": 215,
   "id": "f56a0ecf-da4b-4bc9-83a7-70e7bacb46c4",
   "metadata": {},
   "outputs": [],
   "source": [
    "# Export the chart\n",
    "loyalty_income_bar.figure.savefig(os.path.join(path, '04 Analysis','Visualizations', 'loyalty_income_group_bar.png'))"
   ]
  },
  {
   "cell_type": "code",
   "execution_count": 217,
   "id": "49e8ede1-b064-4538-9048-df3928f75a59",
   "metadata": {},
   "outputs": [
    {
     "data": {
      "text/html": [
       "<div>\n",
       "<style scoped>\n",
       "    .dataframe tbody tr th:only-of-type {\n",
       "        vertical-align: middle;\n",
       "    }\n",
       "\n",
       "    .dataframe tbody tr th {\n",
       "        vertical-align: top;\n",
       "    }\n",
       "\n",
       "    .dataframe thead th {\n",
       "        text-align: right;\n",
       "    }\n",
       "</style>\n",
       "<table border=\"1\" class=\"dataframe\">\n",
       "  <thead>\n",
       "    <tr style=\"text-align: right;\">\n",
       "      <th>spender_flag</th>\n",
       "      <th>True</th>\n",
       "    </tr>\n",
       "    <tr>\n",
       "      <th>loyalty_flag</th>\n",
       "      <th></th>\n",
       "    </tr>\n",
       "  </thead>\n",
       "  <tbody>\n",
       "    <tr>\n",
       "      <th>Loyal</th>\n",
       "      <td>25142582</td>\n",
       "    </tr>\n",
       "    <tr>\n",
       "      <th>Non-loyal</th>\n",
       "      <td>5821936</td>\n",
       "    </tr>\n",
       "  </tbody>\n",
       "</table>\n",
       "</div>"
      ],
      "text/plain": [
       "spender_flag      True\n",
       "loyalty_flag          \n",
       "Loyal         25142582\n",
       "Non-loyal      5821936"
      ]
     },
     "execution_count": 217,
     "metadata": {},
     "output_type": "execute_result"
    }
   ],
   "source": [
    "# Crosstab loyalty with spending\n",
    "loyalty_spender_cross = pd.crosstab(df['loyalty_flag'], df['spender_flag'], dropna = False)\n",
    "loyalty_spender_cross"
   ]
  },
  {
   "cell_type": "code",
   "execution_count": 219,
   "id": "7ae9863c-438a-418c-a8f8-a08153f5e526",
   "metadata": {},
   "outputs": [
    {
     "data": {
      "text/plain": [
       "(array([0, 1]), [Text(0, 0, 'Loyal'), Text(1, 0, 'Non-loyal')])"
      ]
     },
     "execution_count": 219,
     "metadata": {},
     "output_type": "execute_result"
    },
    {
     "data": {
      "image/png": "[encoded data removed]",
      "text/plain": [
       "<Figure size 640x480 with 1 Axes>"
      ]
     },
     "metadata": {},
     "output_type": "display_data"
    }
   ],
   "source": [
    "# bar chart\n",
    "loyalty_spender_bar = loyalty_spender_cross.plot.bar()\n",
    "plt.title('Loyalty by Spender flag')\n",
    "plt.xlabel('')\n",
    "plt.ylabel('count')\n",
    "plt.xticks(rotation=0)"
   ]
  },
  {
   "cell_type": "code",
   "execution_count": 221,
   "id": "23dfc497-8ed1-47ec-a0f5-90cdab10b3e3",
   "metadata": {},
   "outputs": [],
   "source": [
    "# Export the chart\n",
    "loyalty_spender_bar.figure.savefig(os.path.join(path, '04 Analysis','Visualizations', 'loyalty_spender_bar.png'))"
   ]
  },
  {
   "cell_type": "code",
   "execution_count": 223,
   "id": "6d3ddf6e-0809-4e98-8381-cb7156fe6f87",
   "metadata": {},
   "outputs": [
    {
     "data": {
      "text/html": [
       "<div>\n",
       "<style scoped>\n",
       "    .dataframe tbody tr th:only-of-type {\n",
       "        vertical-align: middle;\n",
       "    }\n",
       "\n",
       "    .dataframe tbody tr th {\n",
       "        vertical-align: top;\n",
       "    }\n",
       "\n",
       "    .dataframe thead th {\n",
       "        text-align: right;\n",
       "    }\n",
       "</style>\n",
       "<table border=\"1\" class=\"dataframe\">\n",
       "  <thead>\n",
       "    <tr style=\"text-align: right;\">\n",
       "      <th>fam_status</th>\n",
       "      <th>divorced/widowed</th>\n",
       "      <th>living with parents and siblings</th>\n",
       "      <th>married</th>\n",
       "      <th>single</th>\n",
       "    </tr>\n",
       "    <tr>\n",
       "      <th>loyalty_flag</th>\n",
       "      <th></th>\n",
       "      <th></th>\n",
       "      <th></th>\n",
       "      <th></th>\n",
       "    </tr>\n",
       "  </thead>\n",
       "  <tbody>\n",
       "    <tr>\n",
       "      <th>Loyal</th>\n",
       "      <td>2160279</td>\n",
       "      <td>1210998</td>\n",
       "      <td>17642976</td>\n",
       "      <td>4128329</td>\n",
       "    </tr>\n",
       "    <tr>\n",
       "      <th>Non-loyal</th>\n",
       "      <td>484992</td>\n",
       "      <td>270174</td>\n",
       "      <td>4100724</td>\n",
       "      <td>966046</td>\n",
       "    </tr>\n",
       "  </tbody>\n",
       "</table>\n",
       "</div>"
      ],
      "text/plain": [
       "fam_status    divorced/widowed  living with parents and siblings   married  \\\n",
       "loyalty_flag                                                                 \n",
       "Loyal                  2160279                           1210998  17642976   \n",
       "Non-loyal               484992                            270174   4100724   \n",
       "\n",
       "fam_status     single  \n",
       "loyalty_flag           \n",
       "Loyal         4128329  \n",
       "Non-loyal      966046  "
      ]
     },
     "execution_count": 223,
     "metadata": {},
     "output_type": "execute_result"
    }
   ],
   "source": [
    "# Crosstab loyalty with family status\n",
    "loyalty_fam_cross = pd.crosstab(df['loyalty_flag'], df['fam_status'], dropna = False)\n",
    "loyalty_fam_cross"
   ]
  },
  {
   "cell_type": "code",
   "execution_count": 225,
   "id": "603199c2-765a-4123-84cf-bf24969017d4",
   "metadata": {},
   "outputs": [
    {
     "data": {
      "text/plain": [
       "(array([0, 1]), [Text(0, 0, 'Loyal'), Text(1, 0, 'Non-loyal')])"
      ]
     },
     "execution_count": 225,
     "metadata": {},
     "output_type": "execute_result"
    },
    {
     "data": {
      "image/png": "[encoded data removed]",
      "text/plain": [
       "<Figure size 640x480 with 1 Axes>"
      ]
     },
     "metadata": {},
     "output_type": "display_data"
    }
   ],
   "source": [
    "# bar chart\n",
    "loyalty_fam_bar = loyalty_fam_cross.plot.bar()\n",
    "plt.title('Loyalty by Family Status')\n",
    "plt.xlabel('')\n",
    "plt.ylabel('count')\n",
    "plt.xticks(rotation=0)"
   ]
  },
  {
   "cell_type": "code",
   "execution_count": 227,
   "id": "d747d6bb-c46b-4977-8872-aa734f6d4b74",
   "metadata": {},
   "outputs": [],
   "source": [
    "# Export the chart\n",
    "loyalty_fam_bar.figure.savefig(os.path.join(path, '04 Analysis','Visualizations', 'loyalty_fam_bar.png'))"
   ]
  },
  {
   "cell_type": "code",
   "execution_count": 229,
   "id": "76949db2-5059-4103-8ef5-7502eb39a301",
   "metadata": {},
   "outputs": [
    {
     "data": {
      "text/html": [
       "<div>\n",
       "<style scoped>\n",
       "    .dataframe tbody tr th:only-of-type {\n",
       "        vertical-align: middle;\n",
       "    }\n",
       "\n",
       "    .dataframe tbody tr th {\n",
       "        vertical-align: top;\n",
       "    }\n",
       "\n",
       "    .dataframe thead th {\n",
       "        text-align: right;\n",
       "    }\n",
       "</style>\n",
       "<table border=\"1\" class=\"dataframe\">\n",
       "  <thead>\n",
       "    <tr style=\"text-align: right;\">\n",
       "      <th>dependants_flag</th>\n",
       "      <th>has dependants</th>\n",
       "      <th>no dependants</th>\n",
       "    </tr>\n",
       "    <tr>\n",
       "      <th>loyalty_flag</th>\n",
       "      <th></th>\n",
       "      <th></th>\n",
       "    </tr>\n",
       "  </thead>\n",
       "  <tbody>\n",
       "    <tr>\n",
       "      <th>Loyal</th>\n",
       "      <td>18853974</td>\n",
       "      <td>6288608</td>\n",
       "    </tr>\n",
       "    <tr>\n",
       "      <th>Non-loyal</th>\n",
       "      <td>4370898</td>\n",
       "      <td>1451038</td>\n",
       "    </tr>\n",
       "  </tbody>\n",
       "</table>\n",
       "</div>"
      ],
      "text/plain": [
       "dependants_flag  has dependants  no dependants\n",
       "loyalty_flag                                  \n",
       "Loyal                  18853974        6288608\n",
       "Non-loyal               4370898        1451038"
      ]
     },
     "execution_count": 229,
     "metadata": {},
     "output_type": "execute_result"
    }
   ],
   "source": [
    "# Crosstab loyalty with dependants\n",
    "loyalty_depend_cross = pd.crosstab(df['loyalty_flag'], df['dependants_flag'], dropna = False)\n",
    "loyalty_depend_cross"
   ]
  },
  {
   "cell_type": "code",
   "execution_count": 231,
   "id": "df47d5fc-fa38-4e58-adf8-6ba4b2134743",
   "metadata": {},
   "outputs": [
    {
     "data": {
      "text/plain": [
       "(array([0, 1]), [Text(0, 0, 'Loyal'), Text(1, 0, 'Non-loyal')])"
      ]
     },
     "execution_count": 231,
     "metadata": {},
     "output_type": "execute_result"
    },
    {
     "data": {
      "image/png": "[encoded data removed]",
      "text/plain": [
       "<Figure size 640x480 with 1 Axes>"
      ]
     },
     "metadata": {},
     "output_type": "display_data"
    }
   ],
   "source": [
    "# bar chart\n",
    "loyalty_depend_bar = loyalty_depend_cross.plot.bar()\n",
    "plt.title('Loyalty by Dependants Status')\n",
    "plt.xlabel('')\n",
    "plt.ylabel('count')\n",
    "plt.xticks(rotation=0)"
   ]
  },
  {
   "cell_type": "code",
   "execution_count": 233,
   "id": "a61b88dc-237f-4730-8d52-07dc04f45fd6",
   "metadata": {},
   "outputs": [
    {
     "data": {
      "text/plain": [
       "fam_status\n",
       "married                             21743700\n",
       "single                               5094375\n",
       "divorced/widowed                     2645271\n",
       "living with parents and siblings     1481172\n",
       "Name: count, dtype: int64"
      ]
     },
     "execution_count": 233,
     "metadata": {},
     "output_type": "execute_result"
    }
   ],
   "source": [
    "# Check value counts\n",
    "fam_status = df['fam_status'].value_counts(dropna = False)\n",
    "fam_status"
   ]
  },
  {
   "cell_type": "code",
   "execution_count": 235,
   "id": "4f6db9c9-b1b3-4eea-8604-7d35054eccde",
   "metadata": {},
   "outputs": [
    {
     "data": {
      "image/png": "[encoded data removed]",
      "text/plain": [
       "<Figure size 640x480 with 1 Axes>"
      ]
     },
     "metadata": {},
     "output_type": "display_data"
    }
   ],
   "source": [
    "# Pie chart showing the distribution of family status\n",
    "fam_status_distribution_pie = fam_status.plot.pie(autopct='%1.1f%%', labels= ['married', 'single', 'divorced/widowed', 'living with parents and siblings'], startangle=90, colors=['#ff9999','#66b3ff','#99ff99','#ffcc99'])\n",
    "plt.ylabel('')  # Hide the y-label\n",
    "plt.title('Distribution of Family Status')\n",
    "plt.show()"
   ]
  },
  {
   "cell_type": "code",
   "execution_count": 237,
   "id": "be57e1fe-5691-4b1d-b192-dde5ddf8bfb2",
   "metadata": {},
   "outputs": [],
   "source": [
    "# Export the chart\n",
    "fam_status_distribution_pie.figure.savefig(os.path.join(path, '04 Analysis','Visualizations', 'fam_status_bar.png'))"
   ]
  },
  {
   "cell_type": "code",
   "execution_count": null,
   "id": "15b9bd41-f93a-4f98-98c9-f75c726e3706",
   "metadata": {},
   "outputs": [],
   "source": []
  }
 ],
 "metadata": {
  "kernelspec": {
   "display_name": "Python 3 (ipykernel)",
   "language": "python",
   "name": "python3"
  },
  "language_info": {
   "codemirror_mode": {
    "name": "ipython",
    "version": 3
   },
   "file_extension": ".py",
   "mimetype": "text/x-python",
   "name": "python",
   "nbconvert_exporter": "python",
   "pygments_lexer": "ipython3",
   "version": "3.12.4"
  }
 },
 "nbformat": 4,
 "nbformat_minor": 5
}
